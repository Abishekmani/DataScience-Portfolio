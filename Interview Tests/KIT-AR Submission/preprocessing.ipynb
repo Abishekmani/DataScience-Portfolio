{
 "cells": [
  {
   "cell_type": "code",
   "execution_count": 1,
   "metadata": {},
   "outputs": [],
   "source": [
    "# Imports\n",
    "import os\n",
    "import pandas as pd\n",
    "import numpy as np\n",
    "from scipy import signal\n",
    "from utilities import *"
   ]
  },
  {
   "cell_type": "markdown",
   "metadata": {
    "heading_collapsed": true
   },
   "source": [
    "### Read whole data and store them in seperate files"
   ]
  },
  {
   "cell_type": "markdown",
   "metadata": {
    "heading_collapsed": true,
    "hidden": true
   },
   "source": [
    "#### This cell code is store the dataset after filter and fft process, and they are already exsit in the data files.\n",
    "\n",
    "   So it is not necessary to run this cell unless the datasets have been deleted or the filter frequency want to be changed."
   ]
  },
  {
   "cell_type": "code",
   "execution_count": 2,
   "metadata": {
    "hidden": true
   },
   "outputs": [],
   "source": [
    "for j in range (1,33):\n",
    "    file_prefix = './data/Trial'\n",
    "    acc_df = pd.read_csv(file_prefix + str(j) + '/Myo_accelerometer.csv',index_col=None, header=None)\n",
    "\n",
    "    acc_temp = acc_df.values\n",
    "    acc_dataOut = np.zeros((len(acc_temp),3))\n",
    "    acc_dataOut_fft = np.zeros((len(acc_temp),3))\n",
    "    for p in range(3):\n",
    "        acc_dataOut[:,p] = butter_lowpass_filter(acc_df.iloc[:,p+1], cutoff, fss, order) #cutoff\n",
    "        acc_dataOut[:,p] = acc_dataOut[:,p]/max(abs(acc_dataOut[:,p]))\n",
    "        acc_dataOut_fft[:,p] = np.fft.fft(acc_dataOut[:,p]).real\n",
    "\n",
    "    acc_data_filter = np.concatenate([acc_temp[:,0:1], acc_dataOut], axis=1)\n",
    "    acc_data_filter_fft = np.concatenate([acc_temp[:,0:1], acc_dataOut_fft], axis=1)\n",
    "\n",
    "    acc_df = pd.DataFrame.from_records(acc_data_filter)\n",
    "    acc_df_fft = pd.DataFrame.from_records(acc_data_filter_fft)\n",
    "\n",
    "\n",
    "\n",
    "    gyro_df = pd.read_csv(file_prefix + str(j) + '/Myo_gyro.csv',index_col=None, header=None)\n",
    "\n",
    "    gyro_temp = gyro_df.values\n",
    "    gyro_dataOut = np.zeros((len(gyro_temp),3))\n",
    "    gyro_dataOut_fft = np.zeros((len(gyro_temp),3))\n",
    "    for p in range(3):\n",
    "        gyro_dataOut[:,p] = butter_lowpass_filter(gyro_df.iloc[:,p+1], cutoff, fss, order)\n",
    "        gyro_dataOut[:,p] = gyro_dataOut[:,p]/max(abs(gyro_dataOut[:,p]))\n",
    "        gyro_dataOut_fft[:,p] = np.fft.fft(gyro_dataOut[:,p]).real\n",
    "\n",
    "    gyro_data_filter = np.concatenate([gyro_temp[:,0:1], gyro_dataOut], axis=1)\n",
    "    gyro_data_filter_fft = np.concatenate([gyro_temp[:,0:1], gyro_dataOut_fft], axis=1)\n",
    "\n",
    "    gyro_df = pd.DataFrame.from_records(gyro_data_filter)\n",
    "    gyro_df_fft = pd.DataFrame.from_records(gyro_data_filter_fft)\n",
    "\n",
    "\n",
    "    euler_df = pd.read_csv(file_prefix + str(j) + '/Myo_orientationEuler.csv',index_col=None, header=None)\n",
    "\n",
    "    euler_temp = euler_df.values\n",
    "    euler_dataOut = np.zeros((len(euler_temp),3))\n",
    "    euler_dataOut_fft = np.zeros((len(euler_temp),3))\n",
    "    for p in range(3):\n",
    "        euler_dataOut[:,p] = butter_lowpass_filter(euler_df.iloc[:,p+1], cutoff, fss, order)\n",
    "        euler_dataOut[:,p] = euler_dataOut[:,p]/max(abs(euler_dataOut[:,p]))\n",
    "        euler_dataOut_fft[:,p] = np.fft.fft(euler_dataOut[:,p]).real\n",
    "\n",
    "    euler_data_filter = np.concatenate([euler_temp[:,0:1], euler_dataOut], axis=1)\n",
    "    euler_data_filter_fft = np.concatenate([euler_temp[:,0:1], euler_dataOut_fft], axis=1)\n",
    "\n",
    "\n",
    "    euler_df = pd.DataFrame.from_records(euler_data_filter)\n",
    "    euler_df_fft = pd.DataFrame.from_records(euler_data_filter_fft)\n",
    "\n",
    "\n",
    "    emg_df = pd.read_csv(file_prefix + str(j) + '/Myo_emg.csv',index_col=None, header=None)\n",
    "\n",
    "    temp = emg_df.values\n",
    "    dataOut = np.zeros((len(temp),8))\n",
    "    dataOut_fft = np.zeros((len(temp),8))\n",
    "    for p in range(8):\n",
    "        dataOut[:,p] = emg_butter_lowpass_filter(emg_df.iloc[:,p+1], emg_cutoff, fs, order) # ,emg_cutoff\n",
    "        dataOut[:,p] = dataOut[:,p]/max(abs(dataOut[:,p]))\n",
    "        dataOut_fft[:,p] = np.fft.fft(dataOut[:,p]).real\n",
    "\n",
    "    data_filter = np.concatenate([temp[:,0:1], dataOut], axis=1)\n",
    "    data_filter_fft = np.concatenate([temp[:,0:1], dataOut_fft], axis=1)\n",
    "\n",
    "    emg_df = pd.DataFrame.from_records(data_filter)\n",
    "    emg_df_fft = pd.DataFrame.from_records(data_filter_fft)\n",
    "\n",
    "    emg_df.to_csv(file_prefix + str(j) + '/emg_filter' + '.csv', index=False)\n",
    "    emg_df_fft.to_csv(file_prefix + str(j) + '/emg_fft' + '.csv', index=False)\n",
    "\n",
    "    gyro_df.to_csv(file_prefix + str(j) + '/gyro_filter' + '.csv', index=False)\n",
    "    gyro_df_fft.to_csv(file_prefix + str(j) + '/gyro_fft' + '.csv', index=False)\n",
    "\n",
    "    euler_df.to_csv(file_prefix + str(j) + '/orientationEuler_filter' + '.csv', index=False)\n",
    "    euler_df_fft.to_csv(file_prefix + str(j) + '/orientationEuler_fft' + '.csv', index=False)\n",
    "\n",
    "    acc_df.to_csv(file_prefix + str(j) + '/accelerometer_filter' + '.csv', index=False)\n",
    "    acc_df_fft.to_csv(file_prefix + str(j) + '/accelerometer_fft' + '.csv', index=False)"
   ]
  },
  {
   "cell_type": "markdown",
   "metadata": {
    "heading_collapsed": true,
    "hidden": true
   },
   "source": [
    "#### Only Filtered Dataset (This cell should be re-run every time when the labels are changed)\n",
    "\n",
    "resample and segement window"
   ]
  },
  {
   "cell_type": "code",
   "execution_count": 3,
   "metadata": {
    "hidden": true
   },
   "outputs": [],
   "source": [
    "\"\"\"\" read and label the datasets of only Filter data \"\"\"\n",
    "\n",
    "name = ['gyro_filter','orientationEuler_filter','accelerometer_filter']\n",
    "gyro = store_label_data(name[0])\n",
    "Myo_orientationEuler = store_label_data(name[1])\n",
    "Myo_accelerometer = store_label_data(name[2])\n",
    "imu_data = pd.concat([gyro.iloc[:,0:4],Myo_orientationEuler.iloc[:,1:4],Myo_accelerometer.iloc[:,1:5]],axis=1)\n",
    "imu_data = imu_data.iloc[:,1:]\n",
    "name = ['emg_filter']\n",
    "emg = store_label_data(name[0])\n",
    "emg_data = emg.iloc[:,1:]\n",
    "\n",
    "\"\"\"\" resample the EMG data into the same length of IMU data saved as resample_data \"\"\"\n",
    "f0 = signal.resample(emg_data.iloc[:,0], len(imu_data)) # resample data to imu numbers\n",
    "f1 = signal.resample(emg_data.iloc[:,1], len(imu_data))\n",
    "f2 = signal.resample(emg_data.iloc[:,2], len(imu_data))\n",
    "f3 = signal.resample(emg_data.iloc[:,3], len(imu_data))\n",
    "f4 = signal.resample(emg_data.iloc[:,4], len(imu_data))\n",
    "f5 = signal.resample(emg_data.iloc[:,5], len(imu_data))\n",
    "f6 = signal.resample(emg_data.iloc[:,6], len(imu_data))\n",
    "f7 = signal.resample(emg_data.iloc[:,7], len(imu_data))\n",
    "resample_data = np.concatenate([f0[:,np.newaxis], f1[:,np.newaxis], f2[:,np.newaxis],f3[:,np.newaxis],\n",
    "                                f4[:,np.newaxis], f5[:,np.newaxis], f6[:,np.newaxis], f7[:,np.newaxis]],axis=1)\n",
    "resample_data = pd.DataFrame(resample_data)"
   ]
  },
  {
   "cell_type": "code",
   "execution_count": 4,
   "metadata": {
    "hidden": true
   },
   "outputs": [],
   "source": [
    "\"\"\"\" set the window size and segement IMU and EMG respectively  \"\"\"\n",
    "window_size = 10\n",
    "\n",
    "# get the label and the label after encoding in one hot \n",
    "labels = extract_labels(imu_data,window_size)\n",
    "onehot_labels = np.asarray(pd.get_dummies(labels), dtype = np.int8)\n",
    "\n",
    "##############      IMU         #################\n",
    "data_len = imu_data.iloc[:,0].shape[0]\n",
    "reshaped_x1 = imu_data.iloc[:(data_len//window_size)*window_size,0].values.reshape([data_len//window_size,window_size,1])\n",
    "reshaped_x2 = imu_data.iloc[:(data_len//window_size)*window_size,1].values.reshape([data_len//window_size,window_size,1])\n",
    "reshaped_x3 = imu_data.iloc[:(data_len//window_size)*window_size,2].values.reshape([data_len//window_size,window_size,1])\n",
    "reshaped_x4 = imu_data.iloc[:(data_len//window_size)*window_size,3].values.reshape([data_len//window_size,window_size,1])\n",
    "reshaped_x5 = imu_data.iloc[:(data_len//window_size)*window_size,4].values.reshape([data_len//window_size,window_size,1])\n",
    "reshaped_x6 = imu_data.iloc[:(data_len//window_size)*window_size,5].values.reshape([data_len//window_size,window_size,1])\n",
    "reshaped_x7 = imu_data.iloc[:(data_len//window_size)*window_size,6].values.reshape([data_len//window_size,window_size,1])\n",
    "reshaped_x8 = imu_data.iloc[:(data_len//window_size)*window_size,7].values.reshape([data_len//window_size,window_size,1])\n",
    "reshaped_x9 = imu_data.iloc[:(data_len//window_size)*window_size,8].values.reshape([data_len//window_size,window_size,1])\n",
    "reshaped_segments_imu = np.concatenate([reshaped_x1, reshaped_x2, reshaped_x3,reshaped_x4, reshaped_x5, reshaped_x6,\n",
    "                                   reshaped_x7, reshaped_x8, reshaped_x9],axis=2)\n",
    "\n",
    "##############      EMG        #################\n",
    "data_len = resample_data.iloc[:,0].shape[0]\n",
    "reshaped_x1 = resample_data.iloc[:(data_len//window_size)*window_size,0].values.reshape([data_len//window_size,window_size,1])\n",
    "reshaped_x2 = resample_data.iloc[:(data_len//window_size)*window_size,1].values.reshape([data_len//window_size,window_size,1])\n",
    "reshaped_x3 = resample_data.iloc[:(data_len//window_size)*window_size,2].values.reshape([data_len//window_size,window_size,1])\n",
    "reshaped_x4 = resample_data.iloc[:(data_len//window_size)*window_size,3].values.reshape([data_len//window_size,window_size,1])\n",
    "reshaped_x5 = resample_data.iloc[:(data_len//window_size)*window_size,4].values.reshape([data_len//window_size,window_size,1])\n",
    "reshaped_x6 = resample_data.iloc[:(data_len//window_size)*window_size,5].values.reshape([data_len//window_size,window_size,1])\n",
    "reshaped_x7 = resample_data.iloc[:(data_len//window_size)*window_size,6].values.reshape([data_len//window_size,window_size,1])\n",
    "reshaped_x8 = resample_data.iloc[:(data_len//window_size)*window_size,7].values.reshape([data_len//window_size,window_size,1])\n",
    "reshaped_segments_emg = np.concatenate([reshaped_x1, reshaped_x2, reshaped_x3,reshaped_x4, reshaped_x5, reshaped_x6,\n",
    "                                   reshaped_x7, reshaped_x8],axis=2)"
   ]
  },
  {
   "cell_type": "code",
   "execution_count": 5,
   "metadata": {
    "hidden": true
   },
   "outputs": [
    {
     "data": {
      "text/plain": [
       "((31524, 10, 9), (31524, 10, 8), (31524,), (31524, 4))"
      ]
     },
     "execution_count": 5,
     "metadata": {},
     "output_type": "execute_result"
    }
   ],
   "source": [
    "# check the shape of each data and labels\n",
    "reshaped_segments_imu.shape,reshaped_segments_emg.shape,labels.shape,onehot_labels.shape"
   ]
  },
  {
   "cell_type": "markdown",
   "metadata": {
    "heading_collapsed": true,
    "hidden": true
   },
   "source": [
    "#### Filtered and FFT Dataset (This cell should be re-run every time when the labels are changed)"
   ]
  },
  {
   "cell_type": "code",
   "execution_count": 6,
   "metadata": {
    "hidden": true
   },
   "outputs": [],
   "source": [
    "\"\"\"\" read and label the datasets of Filtered and FFT data \"\"\"\n",
    "\n",
    "name = ['gyro_fft','orientationEuler_fft','accelerometer_fft']\n",
    "gyro_fft = store_label_data(name[0])\n",
    "Myo_orientationEuler_fft = store_label_data(name[1])\n",
    "Myo_accelerometer_fft = store_label_data(name[2])\n",
    "imu_data_fft = pd.concat([gyro_fft.iloc[:,0:4],Myo_orientationEuler_fft.iloc[:,1:4],Myo_accelerometer_fft.iloc[:,1:5]],axis=1)\n",
    "imu_data_fft = imu_data_fft.iloc[:,1:]\n",
    "name = ['emg_fft']\n",
    "emg_fft = store_label_data(name[0])\n",
    "emg_data_fft = emg_fft.iloc[:,1:]\n",
    "\n",
    "\"\"\"\" resample the EMG data into the same length of IMU data saved as resample_data \"\"\"\n",
    "f0 = signal.resample(emg_data_fft.iloc[:,0], len(imu_data_fft)) # resample data to imu numbers\n",
    "f1 = signal.resample(emg_data_fft.iloc[:,1], len(imu_data_fft))\n",
    "f2 = signal.resample(emg_data_fft.iloc[:,2], len(imu_data_fft))\n",
    "f3 = signal.resample(emg_data_fft.iloc[:,3], len(imu_data_fft))\n",
    "f4 = signal.resample(emg_data_fft.iloc[:,4], len(imu_data_fft))\n",
    "f5 = signal.resample(emg_data_fft.iloc[:,5], len(imu_data_fft))\n",
    "f6 = signal.resample(emg_data_fft.iloc[:,6], len(imu_data_fft))\n",
    "f7 = signal.resample(emg_data_fft.iloc[:,7], len(imu_data_fft))\n",
    "resample_data_fft = np.concatenate([f0[:,np.newaxis], f1[:,np.newaxis], f2[:,np.newaxis],f3[:,np.newaxis],\n",
    "                                f4[:,np.newaxis], f5[:,np.newaxis], f6[:,np.newaxis], f7[:,np.newaxis]],axis=1)\n",
    "resample_data_fft = pd.DataFrame(resample_data_fft)"
   ]
  },
  {
   "cell_type": "code",
   "execution_count": 7,
   "metadata": {
    "hidden": true
   },
   "outputs": [],
   "source": [
    "window_size = 10\n",
    "\n",
    "##############      IMU         #################\n",
    "data_len = imu_data_fft.iloc[:,0].shape[0]\n",
    "reshaped_x1 = imu_data_fft.iloc[:(data_len//window_size)*window_size,0].values.reshape([data_len//window_size,window_size,1])\n",
    "reshaped_x2 = imu_data_fft.iloc[:(data_len//window_size)*window_size,1].values.reshape([data_len//window_size,window_size,1])\n",
    "reshaped_x3 = imu_data_fft.iloc[:(data_len//window_size)*window_size,2].values.reshape([data_len//window_size,window_size,1])\n",
    "reshaped_x4 = imu_data_fft.iloc[:(data_len//window_size)*window_size,3].values.reshape([data_len//window_size,window_size,1])\n",
    "reshaped_x5 = imu_data_fft.iloc[:(data_len//window_size)*window_size,4].values.reshape([data_len//window_size,window_size,1])\n",
    "reshaped_x6 = imu_data_fft.iloc[:(data_len//window_size)*window_size,5].values.reshape([data_len//window_size,window_size,1])\n",
    "reshaped_x7 = imu_data_fft.iloc[:(data_len//window_size)*window_size,6].values.reshape([data_len//window_size,window_size,1])\n",
    "reshaped_x8 = imu_data_fft.iloc[:(data_len//window_size)*window_size,7].values.reshape([data_len//window_size,window_size,1])\n",
    "reshaped_x9 = imu_data_fft.iloc[:(data_len//window_size)*window_size,8].values.reshape([data_len//window_size,window_size,1])\n",
    "reshaped_segments_imu_fft = np.concatenate([reshaped_x1, reshaped_x2, reshaped_x3,reshaped_x4, reshaped_x5, reshaped_x6,\n",
    "                                   reshaped_x7, reshaped_x8, reshaped_x9],axis=2)\n",
    "\n",
    "##############      EMG        #################\n",
    "data_len = resample_data_fft.iloc[:,0].shape[0]\n",
    "reshaped_x1 = resample_data_fft.iloc[:(data_len//window_size)*window_size,0].values.reshape([data_len//window_size,window_size,1])\n",
    "reshaped_x2 = resample_data_fft.iloc[:(data_len//window_size)*window_size,1].values.reshape([data_len//window_size,window_size,1])\n",
    "reshaped_x3 = resample_data_fft.iloc[:(data_len//window_size)*window_size,2].values.reshape([data_len//window_size,window_size,1])\n",
    "reshaped_x4 = resample_data_fft.iloc[:(data_len//window_size)*window_size,3].values.reshape([data_len//window_size,window_size,1])\n",
    "reshaped_x5 = resample_data_fft.iloc[:(data_len//window_size)*window_size,4].values.reshape([data_len//window_size,window_size,1])\n",
    "reshaped_x6 = resample_data_fft.iloc[:(data_len//window_size)*window_size,5].values.reshape([data_len//window_size,window_size,1])\n",
    "reshaped_x7 = resample_data_fft.iloc[:(data_len//window_size)*window_size,6].values.reshape([data_len//window_size,window_size,1])\n",
    "reshaped_x8 = resample_data_fft.iloc[:(data_len//window_size)*window_size,7].values.reshape([data_len//window_size,window_size,1])\n",
    "reshaped_segments_emg_fft = np.concatenate([reshaped_x1, reshaped_x2, reshaped_x3,reshaped_x4, reshaped_x5, reshaped_x6,\n",
    "                                   reshaped_x7, reshaped_x8],axis=2)"
   ]
  },
  {
   "cell_type": "code",
   "execution_count": 8,
   "metadata": {
    "hidden": true
   },
   "outputs": [
    {
     "data": {
      "text/plain": [
       "((31524, 10, 9), (31524, 10, 8))"
      ]
     },
     "execution_count": 8,
     "metadata": {},
     "output_type": "execute_result"
    }
   ],
   "source": [
    "reshaped_segments_imu_fft.shape,reshaped_segments_emg_fft.shape"
   ]
  },
  {
   "cell_type": "code",
   "execution_count": 10,
   "metadata": {},
   "outputs": [],
   "source": []
  }
 ],
 "metadata": {
  "kernelspec": {
   "display_name": "Python 3",
   "language": "python",
   "name": "python3"
  },
  "language_info": {
   "codemirror_mode": {
    "name": "ipython",
    "version": 3
   },
   "file_extension": ".py",
   "mimetype": "text/x-python",
   "name": "python",
   "nbconvert_exporter": "python",
   "pygments_lexer": "ipython3",
   "version": "3.8.3"
  }
 },
 "nbformat": 4,
 "nbformat_minor": 2
}
