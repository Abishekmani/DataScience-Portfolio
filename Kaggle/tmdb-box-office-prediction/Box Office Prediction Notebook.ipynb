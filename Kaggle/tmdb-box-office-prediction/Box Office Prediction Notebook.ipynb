{
 "cells": [
  {
   "cell_type": "code",
   "execution_count": 142,
   "metadata": {},
   "outputs": [],
   "source": [
    "import pandas as pd\n",
    "import numpy as np\n",
    "import matplotlib.pyplot as plt\n",
    "import seaborn as sns\n",
    "import json\n",
    "%matplotlib inline"
   ]
  },
  {
   "cell_type": "code",
   "execution_count": 143,
   "metadata": {},
   "outputs": [],
   "source": [
    "train = pd.read_csv('train.csv')\n",
    "test = pd.read_csv('test.csv')"
   ]
  },
  {
   "cell_type": "code",
   "execution_count": 84,
   "metadata": {},
   "outputs": [
    {
     "name": "stdout",
     "output_type": "stream",
     "text": [
      "(3000, 23)\n",
      "(4398, 22)\n"
     ]
    }
   ],
   "source": [
    "test2 = pd.read_csv('test.csv')\n",
    "test_id=test2[\"id\"]\n",
    "print(train.shape)\n",
    "print(test.shape)"
   ]
  },
  {
   "cell_type": "code",
   "execution_count": 145,
   "metadata": {},
   "outputs": [
    {
     "data": {
      "text/html": [
       "<div>\n",
       "<style scoped>\n",
       "    .dataframe tbody tr th:only-of-type {\n",
       "        vertical-align: middle;\n",
       "    }\n",
       "\n",
       "    .dataframe tbody tr th {\n",
       "        vertical-align: top;\n",
       "    }\n",
       "\n",
       "    .dataframe thead th {\n",
       "        text-align: right;\n",
       "    }\n",
       "</style>\n",
       "<table border=\"1\" class=\"dataframe\">\n",
       "  <thead>\n",
       "    <tr style=\"text-align: right;\">\n",
       "      <th></th>\n",
       "      <th>id</th>\n",
       "      <th>belongs_to_collection</th>\n",
       "      <th>budget</th>\n",
       "      <th>genres</th>\n",
       "      <th>homepage</th>\n",
       "      <th>imdb_id</th>\n",
       "      <th>original_language</th>\n",
       "      <th>original_title</th>\n",
       "      <th>overview</th>\n",
       "      <th>popularity</th>\n",
       "      <th>...</th>\n",
       "      <th>release_date</th>\n",
       "      <th>runtime</th>\n",
       "      <th>spoken_languages</th>\n",
       "      <th>status</th>\n",
       "      <th>tagline</th>\n",
       "      <th>title</th>\n",
       "      <th>Keywords</th>\n",
       "      <th>cast</th>\n",
       "      <th>crew</th>\n",
       "      <th>revenue</th>\n",
       "    </tr>\n",
       "  </thead>\n",
       "  <tbody>\n",
       "    <tr>\n",
       "      <th>0</th>\n",
       "      <td>1</td>\n",
       "      <td>[{'id': 313576, 'name': 'Hot Tub Time Machine ...</td>\n",
       "      <td>14000000</td>\n",
       "      <td>[{'id': 35, 'name': 'Comedy'}]</td>\n",
       "      <td>NaN</td>\n",
       "      <td>tt2637294</td>\n",
       "      <td>en</td>\n",
       "      <td>Hot Tub Time Machine 2</td>\n",
       "      <td>When Lou, who has become the \"father of the In...</td>\n",
       "      <td>6.575393</td>\n",
       "      <td>...</td>\n",
       "      <td>2/20/15</td>\n",
       "      <td>93.0</td>\n",
       "      <td>[{'iso_639_1': 'en', 'name': 'English'}]</td>\n",
       "      <td>Released</td>\n",
       "      <td>The Laws of Space and Time are About to be Vio...</td>\n",
       "      <td>Hot Tub Time Machine 2</td>\n",
       "      <td>[{'id': 4379, 'name': 'time travel'}, {'id': 9...</td>\n",
       "      <td>[{'cast_id': 4, 'character': 'Lou', 'credit_id...</td>\n",
       "      <td>[{'credit_id': '59ac067c92514107af02c8c8', 'de...</td>\n",
       "      <td>12314651</td>\n",
       "    </tr>\n",
       "    <tr>\n",
       "      <th>1</th>\n",
       "      <td>2</td>\n",
       "      <td>[{'id': 107674, 'name': 'The Princess Diaries ...</td>\n",
       "      <td>40000000</td>\n",
       "      <td>[{'id': 35, 'name': 'Comedy'}, {'id': 18, 'nam...</td>\n",
       "      <td>NaN</td>\n",
       "      <td>tt0368933</td>\n",
       "      <td>en</td>\n",
       "      <td>The Princess Diaries 2: Royal Engagement</td>\n",
       "      <td>Mia Thermopolis is now a college graduate and ...</td>\n",
       "      <td>8.248895</td>\n",
       "      <td>...</td>\n",
       "      <td>8/6/04</td>\n",
       "      <td>113.0</td>\n",
       "      <td>[{'iso_639_1': 'en', 'name': 'English'}]</td>\n",
       "      <td>Released</td>\n",
       "      <td>It can take a lifetime to find true love; she'...</td>\n",
       "      <td>The Princess Diaries 2: Royal Engagement</td>\n",
       "      <td>[{'id': 2505, 'name': 'coronation'}, {'id': 42...</td>\n",
       "      <td>[{'cast_id': 1, 'character': 'Mia Thermopolis'...</td>\n",
       "      <td>[{'credit_id': '52fe43fe9251416c7502563d', 'de...</td>\n",
       "      <td>95149435</td>\n",
       "    </tr>\n",
       "    <tr>\n",
       "      <th>2</th>\n",
       "      <td>3</td>\n",
       "      <td>NaN</td>\n",
       "      <td>3300000</td>\n",
       "      <td>[{'id': 18, 'name': 'Drama'}]</td>\n",
       "      <td>http://sonyclassics.com/whiplash/</td>\n",
       "      <td>tt2582802</td>\n",
       "      <td>en</td>\n",
       "      <td>Whiplash</td>\n",
       "      <td>Under the direction of a ruthless instructor, ...</td>\n",
       "      <td>64.299990</td>\n",
       "      <td>...</td>\n",
       "      <td>10/10/14</td>\n",
       "      <td>105.0</td>\n",
       "      <td>[{'iso_639_1': 'en', 'name': 'English'}]</td>\n",
       "      <td>Released</td>\n",
       "      <td>The road to greatness can take you to the edge.</td>\n",
       "      <td>Whiplash</td>\n",
       "      <td>[{'id': 1416, 'name': 'jazz'}, {'id': 1523, 'n...</td>\n",
       "      <td>[{'cast_id': 5, 'character': 'Andrew Neimann',...</td>\n",
       "      <td>[{'credit_id': '54d5356ec3a3683ba0000039', 'de...</td>\n",
       "      <td>13092000</td>\n",
       "    </tr>\n",
       "    <tr>\n",
       "      <th>3</th>\n",
       "      <td>4</td>\n",
       "      <td>NaN</td>\n",
       "      <td>1200000</td>\n",
       "      <td>[{'id': 53, 'name': 'Thriller'}, {'id': 18, 'n...</td>\n",
       "      <td>http://kahaanithefilm.com/</td>\n",
       "      <td>tt1821480</td>\n",
       "      <td>hi</td>\n",
       "      <td>Kahaani</td>\n",
       "      <td>Vidya Bagchi (Vidya Balan) arrives in Kolkata ...</td>\n",
       "      <td>3.174936</td>\n",
       "      <td>...</td>\n",
       "      <td>3/9/12</td>\n",
       "      <td>122.0</td>\n",
       "      <td>[{'iso_639_1': 'en', 'name': 'English'}, {'iso...</td>\n",
       "      <td>Released</td>\n",
       "      <td>NaN</td>\n",
       "      <td>Kahaani</td>\n",
       "      <td>[{'id': 10092, 'name': 'mystery'}, {'id': 1054...</td>\n",
       "      <td>[{'cast_id': 1, 'character': 'Vidya Bagchi', '...</td>\n",
       "      <td>[{'credit_id': '52fe48779251416c9108d6eb', 'de...</td>\n",
       "      <td>16000000</td>\n",
       "    </tr>\n",
       "    <tr>\n",
       "      <th>4</th>\n",
       "      <td>5</td>\n",
       "      <td>NaN</td>\n",
       "      <td>0</td>\n",
       "      <td>[{'id': 28, 'name': 'Action'}, {'id': 53, 'nam...</td>\n",
       "      <td>NaN</td>\n",
       "      <td>tt1380152</td>\n",
       "      <td>ko</td>\n",
       "      <td>마린보이</td>\n",
       "      <td>Marine Boy is the story of a former national s...</td>\n",
       "      <td>1.148070</td>\n",
       "      <td>...</td>\n",
       "      <td>2/5/09</td>\n",
       "      <td>118.0</td>\n",
       "      <td>[{'iso_639_1': 'ko', 'name': '한국어/조선말'}]</td>\n",
       "      <td>Released</td>\n",
       "      <td>NaN</td>\n",
       "      <td>Marine Boy</td>\n",
       "      <td>NaN</td>\n",
       "      <td>[{'cast_id': 3, 'character': 'Chun-soo', 'cred...</td>\n",
       "      <td>[{'credit_id': '52fe464b9251416c75073b43', 'de...</td>\n",
       "      <td>3923970</td>\n",
       "    </tr>\n",
       "  </tbody>\n",
       "</table>\n",
       "<p>5 rows × 23 columns</p>\n",
       "</div>"
      ],
      "text/plain": [
       "   id                              belongs_to_collection    budget  \\\n",
       "0   1  [{'id': 313576, 'name': 'Hot Tub Time Machine ...  14000000   \n",
       "1   2  [{'id': 107674, 'name': 'The Princess Diaries ...  40000000   \n",
       "2   3                                                NaN   3300000   \n",
       "3   4                                                NaN   1200000   \n",
       "4   5                                                NaN         0   \n",
       "\n",
       "                                              genres  \\\n",
       "0                     [{'id': 35, 'name': 'Comedy'}]   \n",
       "1  [{'id': 35, 'name': 'Comedy'}, {'id': 18, 'nam...   \n",
       "2                      [{'id': 18, 'name': 'Drama'}]   \n",
       "3  [{'id': 53, 'name': 'Thriller'}, {'id': 18, 'n...   \n",
       "4  [{'id': 28, 'name': 'Action'}, {'id': 53, 'nam...   \n",
       "\n",
       "                            homepage    imdb_id original_language  \\\n",
       "0                                NaN  tt2637294                en   \n",
       "1                                NaN  tt0368933                en   \n",
       "2  http://sonyclassics.com/whiplash/  tt2582802                en   \n",
       "3         http://kahaanithefilm.com/  tt1821480                hi   \n",
       "4                                NaN  tt1380152                ko   \n",
       "\n",
       "                             original_title  \\\n",
       "0                    Hot Tub Time Machine 2   \n",
       "1  The Princess Diaries 2: Royal Engagement   \n",
       "2                                  Whiplash   \n",
       "3                                   Kahaani   \n",
       "4                                      마린보이   \n",
       "\n",
       "                                            overview  popularity  ...  \\\n",
       "0  When Lou, who has become the \"father of the In...    6.575393  ...   \n",
       "1  Mia Thermopolis is now a college graduate and ...    8.248895  ...   \n",
       "2  Under the direction of a ruthless instructor, ...   64.299990  ...   \n",
       "3  Vidya Bagchi (Vidya Balan) arrives in Kolkata ...    3.174936  ...   \n",
       "4  Marine Boy is the story of a former national s...    1.148070  ...   \n",
       "\n",
       "  release_date runtime                                   spoken_languages  \\\n",
       "0      2/20/15    93.0           [{'iso_639_1': 'en', 'name': 'English'}]   \n",
       "1       8/6/04   113.0           [{'iso_639_1': 'en', 'name': 'English'}]   \n",
       "2     10/10/14   105.0           [{'iso_639_1': 'en', 'name': 'English'}]   \n",
       "3       3/9/12   122.0  [{'iso_639_1': 'en', 'name': 'English'}, {'iso...   \n",
       "4       2/5/09   118.0           [{'iso_639_1': 'ko', 'name': '한국어/조선말'}]   \n",
       "\n",
       "     status                                            tagline  \\\n",
       "0  Released  The Laws of Space and Time are About to be Vio...   \n",
       "1  Released  It can take a lifetime to find true love; she'...   \n",
       "2  Released    The road to greatness can take you to the edge.   \n",
       "3  Released                                                NaN   \n",
       "4  Released                                                NaN   \n",
       "\n",
       "                                      title  \\\n",
       "0                    Hot Tub Time Machine 2   \n",
       "1  The Princess Diaries 2: Royal Engagement   \n",
       "2                                  Whiplash   \n",
       "3                                   Kahaani   \n",
       "4                                Marine Boy   \n",
       "\n",
       "                                            Keywords  \\\n",
       "0  [{'id': 4379, 'name': 'time travel'}, {'id': 9...   \n",
       "1  [{'id': 2505, 'name': 'coronation'}, {'id': 42...   \n",
       "2  [{'id': 1416, 'name': 'jazz'}, {'id': 1523, 'n...   \n",
       "3  [{'id': 10092, 'name': 'mystery'}, {'id': 1054...   \n",
       "4                                                NaN   \n",
       "\n",
       "                                                cast  \\\n",
       "0  [{'cast_id': 4, 'character': 'Lou', 'credit_id...   \n",
       "1  [{'cast_id': 1, 'character': 'Mia Thermopolis'...   \n",
       "2  [{'cast_id': 5, 'character': 'Andrew Neimann',...   \n",
       "3  [{'cast_id': 1, 'character': 'Vidya Bagchi', '...   \n",
       "4  [{'cast_id': 3, 'character': 'Chun-soo', 'cred...   \n",
       "\n",
       "                                                crew   revenue  \n",
       "0  [{'credit_id': '59ac067c92514107af02c8c8', 'de...  12314651  \n",
       "1  [{'credit_id': '52fe43fe9251416c7502563d', 'de...  95149435  \n",
       "2  [{'credit_id': '54d5356ec3a3683ba0000039', 'de...  13092000  \n",
       "3  [{'credit_id': '52fe48779251416c9108d6eb', 'de...  16000000  \n",
       "4  [{'credit_id': '52fe464b9251416c75073b43', 'de...   3923970  \n",
       "\n",
       "[5 rows x 23 columns]"
      ]
     },
     "execution_count": 145,
     "metadata": {},
     "output_type": "execute_result"
    }
   ],
   "source": [
    "train.head()"
   ]
  },
  {
   "cell_type": "code",
   "execution_count": 144,
   "metadata": {},
   "outputs": [
    {
     "data": {
      "image/png": "[encoded data removed]",
      "text/plain": [
       "<Figure size 720x720 with 2 Axes>"
      ]
     },
     "metadata": {
      "needs_background": "light"
     },
     "output_type": "display_data"
    }
   ],
   "source": [
    "corr = train.corr()\n",
    "highest_corr_features = corr.index[abs(corr[\"revenue\"])>0.1]\n",
    "plt.figure(figsize=(10,10))\n",
    "g = sns.heatmap(train[highest_corr_features].corr(),annot=True,cmap=\"RdYlGn\")"
   ]
  },
  {
   "cell_type": "code",
   "execution_count": 85,
   "metadata": {},
   "outputs": [],
   "source": [
    "columns_to_drop=['belongs_to_collection','overview','poster_path','tagline',\n",
    "                'original_title','title','id','imdb_id','status']"
   ]
  },
  {
   "cell_type": "code",
   "execution_count": 86,
   "metadata": {},
   "outputs": [],
   "source": [
    "train.drop(columns_to_drop,axis=1,inplace=True)\n",
    "test.drop(columns_to_drop,axis=1,inplace=True)"
   ]
  },
  {
   "cell_type": "code",
   "execution_count": 87,
   "metadata": {},
   "outputs": [
    {
     "name": "stderr",
     "output_type": "stream",
     "text": [
      "<ipython-input-87-575d9868f4f5>:1: SettingWithCopyWarning: \n",
      "A value is trying to be set on a copy of a slice from a DataFrame\n",
      "\n",
      "See the caveats in the documentation: https://pandas.pydata.org/pandas-docs/stable/user_guide/indexing.html#returning-a-view-versus-a-copy\n",
      "  train[\"homepage\"][train[\"homepage\"].notna()]=1\n",
      "<ipython-input-87-575d9868f4f5>:5: SettingWithCopyWarning: \n",
      "A value is trying to be set on a copy of a slice from a DataFrame\n",
      "\n",
      "See the caveats in the documentation: https://pandas.pydata.org/pandas-docs/stable/user_guide/indexing.html#returning-a-view-versus-a-copy\n",
      "  test[\"homepage\"][test[\"homepage\"].notna()]=1\n"
     ]
    }
   ],
   "source": [
    "train[\"homepage\"][train[\"homepage\"].notna()]=1\n",
    "train[\"homepage\"]=train[\"homepage\"].fillna(0)\n",
    "train[\"homepage\"]=pd.to_numeric(train[\"homepage\"])\n",
    "\n",
    "test[\"homepage\"][test[\"homepage\"].notna()]=1\n",
    "test[\"homepage\"]=test[\"homepage\"].fillna(0)\n",
    "test[\"homepage\"]=pd.to_numeric(test[\"homepage\"])"
   ]
  },
  {
   "cell_type": "code",
   "execution_count": 88,
   "metadata": {},
   "outputs": [
    {
     "data": {
      "text/plain": [
       "<seaborn.axisgrid.FacetGrid at 0x7fb63825fca0>"
      ]
     },
     "execution_count": 88,
     "metadata": {},
     "output_type": "execute_result"
    },
    {
     "data": {
      "image/png": "[encoded data removed]",
      "text/plain": [
       "<Figure size 360x360 with 1 Axes>"
      ]
     },
     "metadata": {
      "needs_background": "light"
     },
     "output_type": "display_data"
    }
   ],
   "source": [
    "sns.catplot(x='homepage',y='revenue',data=train)"
   ]
  },
  {
   "cell_type": "code",
   "execution_count": 89,
   "metadata": {},
   "outputs": [
    {
     "name": "stdout",
     "output_type": "stream",
     "text": [
      "Training set columns with % missing values\n",
      "\n",
      "genres                  0.233333\n",
      "production_companies    5.200000\n",
      "production_countries    1.833333\n",
      "runtime                 0.066667\n",
      "spoken_languages        0.666667\n",
      "Keywords                9.200000\n",
      "cast                    0.433333\n",
      "crew                    0.533333\n",
      "dtype: float64\n",
      "-------------------------\n",
      "Test set columns with % missing values\n",
      "\n",
      "genres                  0.363802\n",
      "production_companies    5.866303\n",
      "production_countries    2.319236\n",
      "release_date            0.022738\n",
      "runtime                 0.090950\n",
      "spoken_languages        0.954980\n",
      "Keywords                8.935880\n",
      "cast                    0.295589\n",
      "crew                    0.500227\n",
      "dtype: float64\n"
     ]
    }
   ],
   "source": [
    "print('Training set columns with % missing values\\n')\n",
    "print(train[train.columns[train.isnull().any()]].isnull().sum() * 100 / train.shape[0])\n",
    "print('-'*25)\n",
    "print('Test set columns with % missing values\\n')\n",
    "print(test[test.columns[test.isnull().any()]].isnull().sum() *100/test.shape[0])"
   ]
  },
  {
   "cell_type": "code",
   "execution_count": 90,
   "metadata": {},
   "outputs": [],
   "source": [
    "train['genre_name']=np.nan\n",
    "test['genre_name']=np.nan"
   ]
  },
  {
   "cell_type": "code",
   "execution_count": 91,
   "metadata": {},
   "outputs": [],
   "source": [
    "def get_dict(s):\n",
    "    try:\n",
    "        d = eval(s)\n",
    "    except:\n",
    "        d = {}\n",
    "    return d"
   ]
  },
  {
   "cell_type": "code",
   "execution_count": null,
   "metadata": {},
   "outputs": [],
   "source": []
  },
  {
   "cell_type": "code",
   "execution_count": 92,
   "metadata": {},
   "outputs": [
    {
     "name": "stderr",
     "output_type": "stream",
     "text": [
      "<ipython-input-92-3fd260ac5e0d>:5: SettingWithCopyWarning: \n",
      "A value is trying to be set on a copy of a slice from a DataFrame\n",
      "\n",
      "See the caveats in the documentation: https://pandas.pydata.org/pandas-docs/stable/user_guide/indexing.html#returning-a-view-versus-a-copy\n",
      "  train['genre_name'][j] = d[0]['name']\n",
      "/Users/abishek/opt/anaconda3/lib/python3.8/site-packages/pandas/core/indexing.py:671: SettingWithCopyWarning: \n",
      "A value is trying to be set on a copy of a slice from a DataFrame\n",
      "\n",
      "See the caveats in the documentation: https://pandas.pydata.org/pandas-docs/stable/user_guide/indexing.html#returning-a-view-versus-a-copy\n",
      "  self._setitem_with_indexer(indexer, value)\n",
      "<ipython-input-92-3fd260ac5e0d>:7: SettingWithCopyWarning: \n",
      "A value is trying to be set on a copy of a slice from a DataFrame\n",
      "\n",
      "See the caveats in the documentation: https://pandas.pydata.org/pandas-docs/stable/user_guide/indexing.html#returning-a-view-versus-a-copy\n",
      "  train['genre_name'][j] = np.NaN\n",
      "<ipython-input-92-3fd260ac5e0d>:14: SettingWithCopyWarning: \n",
      "A value is trying to be set on a copy of a slice from a DataFrame\n",
      "\n",
      "See the caveats in the documentation: https://pandas.pydata.org/pandas-docs/stable/user_guide/indexing.html#returning-a-view-versus-a-copy\n",
      "  test['genre_name'][j] = d[0]['name']\n",
      "<ipython-input-92-3fd260ac5e0d>:16: SettingWithCopyWarning: \n",
      "A value is trying to be set on a copy of a slice from a DataFrame\n",
      "\n",
      "See the caveats in the documentation: https://pandas.pydata.org/pandas-docs/stable/user_guide/indexing.html#returning-a-view-versus-a-copy\n",
      "  test['genre_name'][j] = np.NaN\n"
     ]
    }
   ],
   "source": [
    "j = 0\n",
    "for i in train['genres']:\n",
    "    d = get_dict(i)\n",
    "    if d != {}:\n",
    "        train['genre_name'][j] = d[0]['name'] \n",
    "    else:\n",
    "         train['genre_name'][j] = np.NaN\n",
    "    j += 1\n",
    "\n",
    "j = 0\n",
    "for i in test['genres']:\n",
    "    d = get_dict(i)\n",
    "    if d != {}:\n",
    "        test['genre_name'][j] = d[0]['name'] \n",
    "    else:\n",
    "         test['genre_name'][j] = np.NaN\n",
    "    j += 1"
   ]
  },
  {
   "cell_type": "code",
   "execution_count": 93,
   "metadata": {},
   "outputs": [],
   "source": [
    "train.drop(['genres'],axis=1,inplace=True)\n",
    "test.drop(['genres'],axis=1,inplace=True)"
   ]
  },
  {
   "cell_type": "code",
   "execution_count": 94,
   "metadata": {},
   "outputs": [
    {
     "name": "stderr",
     "output_type": "stream",
     "text": [
      "<ipython-input-94-784d6840e02d>:4: SettingWithCopyWarning: \n",
      "A value is trying to be set on a copy of a slice from a DataFrame\n",
      "\n",
      "See the caveats in the documentation: https://pandas.pydata.org/pandas-docs/stable/user_guide/indexing.html#returning-a-view-versus-a-copy\n",
      "  train[\"is_english\"][train[\"original_language\"]=='en']=1\n",
      "<ipython-input-94-784d6840e02d>:5: SettingWithCopyWarning: \n",
      "A value is trying to be set on a copy of a slice from a DataFrame\n",
      "\n",
      "See the caveats in the documentation: https://pandas.pydata.org/pandas-docs/stable/user_guide/indexing.html#returning-a-view-versus-a-copy\n",
      "  train[\"is_english\"][train[\"original_language\"]!='en']=0\n",
      "<ipython-input-94-784d6840e02d>:8: SettingWithCopyWarning: \n",
      "A value is trying to be set on a copy of a slice from a DataFrame\n",
      "\n",
      "See the caveats in the documentation: https://pandas.pydata.org/pandas-docs/stable/user_guide/indexing.html#returning-a-view-versus-a-copy\n",
      "  test[\"is_english\"][test[\"original_language\"]=='en']=1\n",
      "<ipython-input-94-784d6840e02d>:9: SettingWithCopyWarning: \n",
      "A value is trying to be set on a copy of a slice from a DataFrame\n",
      "\n",
      "See the caveats in the documentation: https://pandas.pydata.org/pandas-docs/stable/user_guide/indexing.html#returning-a-view-versus-a-copy\n",
      "  test[\"is_english\"][test[\"original_language\"]!='en']=0\n"
     ]
    }
   ],
   "source": [
    "train['is_english']=np.nan\n",
    "test['is_english']=np.nan\n",
    "\n",
    "train[\"is_english\"][train[\"original_language\"]=='en']=1\n",
    "train[\"is_english\"][train[\"original_language\"]!='en']=0\n",
    "train[\"is_english\"]=train[\"is_english\"].astype('category')\n",
    "\n",
    "test[\"is_english\"][test[\"original_language\"]=='en']=1\n",
    "test[\"is_english\"][test[\"original_language\"]!='en']=0\n",
    "test[\"is_english\"]=test[\"is_english\"].astype('category')\n",
    "\n",
    "train.drop(['original_language'],axis=1,inplace=True)\n",
    "test.drop(['original_language'],axis=1,inplace=True)\n"
   ]
  },
  {
   "cell_type": "code",
   "execution_count": 95,
   "metadata": {},
   "outputs": [],
   "source": [
    "train['prod_count']=np.nan\n",
    "train[\"production_companies\"].fillna('{}',inplace=True)\n",
    "train['prod_count']=[len(eval(x)) for x in train[\"production_companies\"]]\n",
    "\n",
    "test['prod_count']=np.nan\n",
    "test[\"production_companies\"].fillna('{}',inplace=True)\n",
    "test['prod_count']=[len(eval(x)) for x in test[\"production_companies\"]]\n",
    "\n",
    "\n"
   ]
  },
  {
   "cell_type": "code",
   "execution_count": 96,
   "metadata": {},
   "outputs": [],
   "source": [
    "train.drop(['production_companies'],axis=1,inplace=True)\n",
    "test.drop(['production_companies'],axis=1,inplace=True)"
   ]
  },
  {
   "cell_type": "code",
   "execution_count": 97,
   "metadata": {},
   "outputs": [
    {
     "data": {
      "text/html": [
       "<div>\n",
       "<style scoped>\n",
       "    .dataframe tbody tr th:only-of-type {\n",
       "        vertical-align: middle;\n",
       "    }\n",
       "\n",
       "    .dataframe tbody tr th {\n",
       "        vertical-align: top;\n",
       "    }\n",
       "\n",
       "    .dataframe thead th {\n",
       "        text-align: right;\n",
       "    }\n",
       "</style>\n",
       "<table border=\"1\" class=\"dataframe\">\n",
       "  <thead>\n",
       "    <tr style=\"text-align: right;\">\n",
       "      <th></th>\n",
       "      <th>budget</th>\n",
       "      <th>homepage</th>\n",
       "      <th>popularity</th>\n",
       "      <th>production_countries</th>\n",
       "      <th>release_date</th>\n",
       "      <th>runtime</th>\n",
       "      <th>spoken_languages</th>\n",
       "      <th>Keywords</th>\n",
       "      <th>cast</th>\n",
       "      <th>crew</th>\n",
       "      <th>revenue</th>\n",
       "      <th>genre_name</th>\n",
       "      <th>is_english</th>\n",
       "      <th>prod_count</th>\n",
       "    </tr>\n",
       "  </thead>\n",
       "  <tbody>\n",
       "    <tr>\n",
       "      <th>0</th>\n",
       "      <td>14000000</td>\n",
       "      <td>0</td>\n",
       "      <td>6.575393</td>\n",
       "      <td>[{'iso_3166_1': 'US', 'name': 'United States o...</td>\n",
       "      <td>2/20/15</td>\n",
       "      <td>93.0</td>\n",
       "      <td>[{'iso_639_1': 'en', 'name': 'English'}]</td>\n",
       "      <td>[{'id': 4379, 'name': 'time travel'}, {'id': 9...</td>\n",
       "      <td>[{'cast_id': 4, 'character': 'Lou', 'credit_id...</td>\n",
       "      <td>[{'credit_id': '59ac067c92514107af02c8c8', 'de...</td>\n",
       "      <td>12314651</td>\n",
       "      <td>Comedy</td>\n",
       "      <td>1.0</td>\n",
       "      <td>3</td>\n",
       "    </tr>\n",
       "    <tr>\n",
       "      <th>1</th>\n",
       "      <td>40000000</td>\n",
       "      <td>0</td>\n",
       "      <td>8.248895</td>\n",
       "      <td>[{'iso_3166_1': 'US', 'name': 'United States o...</td>\n",
       "      <td>8/6/04</td>\n",
       "      <td>113.0</td>\n",
       "      <td>[{'iso_639_1': 'en', 'name': 'English'}]</td>\n",
       "      <td>[{'id': 2505, 'name': 'coronation'}, {'id': 42...</td>\n",
       "      <td>[{'cast_id': 1, 'character': 'Mia Thermopolis'...</td>\n",
       "      <td>[{'credit_id': '52fe43fe9251416c7502563d', 'de...</td>\n",
       "      <td>95149435</td>\n",
       "      <td>Comedy</td>\n",
       "      <td>1.0</td>\n",
       "      <td>1</td>\n",
       "    </tr>\n",
       "    <tr>\n",
       "      <th>2</th>\n",
       "      <td>3300000</td>\n",
       "      <td>1</td>\n",
       "      <td>64.299990</td>\n",
       "      <td>[{'iso_3166_1': 'US', 'name': 'United States o...</td>\n",
       "      <td>10/10/14</td>\n",
       "      <td>105.0</td>\n",
       "      <td>[{'iso_639_1': 'en', 'name': 'English'}]</td>\n",
       "      <td>[{'id': 1416, 'name': 'jazz'}, {'id': 1523, 'n...</td>\n",
       "      <td>[{'cast_id': 5, 'character': 'Andrew Neimann',...</td>\n",
       "      <td>[{'credit_id': '54d5356ec3a3683ba0000039', 'de...</td>\n",
       "      <td>13092000</td>\n",
       "      <td>Drama</td>\n",
       "      <td>1.0</td>\n",
       "      <td>3</td>\n",
       "    </tr>\n",
       "    <tr>\n",
       "      <th>3</th>\n",
       "      <td>1200000</td>\n",
       "      <td>1</td>\n",
       "      <td>3.174936</td>\n",
       "      <td>[{'iso_3166_1': 'IN', 'name': 'India'}]</td>\n",
       "      <td>3/9/12</td>\n",
       "      <td>122.0</td>\n",
       "      <td>[{'iso_639_1': 'en', 'name': 'English'}, {'iso...</td>\n",
       "      <td>[{'id': 10092, 'name': 'mystery'}, {'id': 1054...</td>\n",
       "      <td>[{'cast_id': 1, 'character': 'Vidya Bagchi', '...</td>\n",
       "      <td>[{'credit_id': '52fe48779251416c9108d6eb', 'de...</td>\n",
       "      <td>16000000</td>\n",
       "      <td>Thriller</td>\n",
       "      <td>0.0</td>\n",
       "      <td>0</td>\n",
       "    </tr>\n",
       "    <tr>\n",
       "      <th>4</th>\n",
       "      <td>0</td>\n",
       "      <td>0</td>\n",
       "      <td>1.148070</td>\n",
       "      <td>[{'iso_3166_1': 'KR', 'name': 'South Korea'}]</td>\n",
       "      <td>2/5/09</td>\n",
       "      <td>118.0</td>\n",
       "      <td>[{'iso_639_1': 'ko', 'name': '한국어/조선말'}]</td>\n",
       "      <td>NaN</td>\n",
       "      <td>[{'cast_id': 3, 'character': 'Chun-soo', 'cred...</td>\n",
       "      <td>[{'credit_id': '52fe464b9251416c75073b43', 'de...</td>\n",
       "      <td>3923970</td>\n",
       "      <td>Action</td>\n",
       "      <td>0.0</td>\n",
       "      <td>0</td>\n",
       "    </tr>\n",
       "  </tbody>\n",
       "</table>\n",
       "</div>"
      ],
      "text/plain": [
       "     budget  homepage  popularity  \\\n",
       "0  14000000         0    6.575393   \n",
       "1  40000000         0    8.248895   \n",
       "2   3300000         1   64.299990   \n",
       "3   1200000         1    3.174936   \n",
       "4         0         0    1.148070   \n",
       "\n",
       "                                production_countries release_date  runtime  \\\n",
       "0  [{'iso_3166_1': 'US', 'name': 'United States o...      2/20/15     93.0   \n",
       "1  [{'iso_3166_1': 'US', 'name': 'United States o...       8/6/04    113.0   \n",
       "2  [{'iso_3166_1': 'US', 'name': 'United States o...     10/10/14    105.0   \n",
       "3            [{'iso_3166_1': 'IN', 'name': 'India'}]       3/9/12    122.0   \n",
       "4      [{'iso_3166_1': 'KR', 'name': 'South Korea'}]       2/5/09    118.0   \n",
       "\n",
       "                                    spoken_languages  \\\n",
       "0           [{'iso_639_1': 'en', 'name': 'English'}]   \n",
       "1           [{'iso_639_1': 'en', 'name': 'English'}]   \n",
       "2           [{'iso_639_1': 'en', 'name': 'English'}]   \n",
       "3  [{'iso_639_1': 'en', 'name': 'English'}, {'iso...   \n",
       "4           [{'iso_639_1': 'ko', 'name': '한국어/조선말'}]   \n",
       "\n",
       "                                            Keywords  \\\n",
       "0  [{'id': 4379, 'name': 'time travel'}, {'id': 9...   \n",
       "1  [{'id': 2505, 'name': 'coronation'}, {'id': 42...   \n",
       "2  [{'id': 1416, 'name': 'jazz'}, {'id': 1523, 'n...   \n",
       "3  [{'id': 10092, 'name': 'mystery'}, {'id': 1054...   \n",
       "4                                                NaN   \n",
       "\n",
       "                                                cast  \\\n",
       "0  [{'cast_id': 4, 'character': 'Lou', 'credit_id...   \n",
       "1  [{'cast_id': 1, 'character': 'Mia Thermopolis'...   \n",
       "2  [{'cast_id': 5, 'character': 'Andrew Neimann',...   \n",
       "3  [{'cast_id': 1, 'character': 'Vidya Bagchi', '...   \n",
       "4  [{'cast_id': 3, 'character': 'Chun-soo', 'cred...   \n",
       "\n",
       "                                                crew   revenue genre_name  \\\n",
       "0  [{'credit_id': '59ac067c92514107af02c8c8', 'de...  12314651     Comedy   \n",
       "1  [{'credit_id': '52fe43fe9251416c7502563d', 'de...  95149435     Comedy   \n",
       "2  [{'credit_id': '54d5356ec3a3683ba0000039', 'de...  13092000      Drama   \n",
       "3  [{'credit_id': '52fe48779251416c9108d6eb', 'de...  16000000   Thriller   \n",
       "4  [{'credit_id': '52fe464b9251416c75073b43', 'de...   3923970     Action   \n",
       "\n",
       "  is_english  prod_count  \n",
       "0        1.0           3  \n",
       "1        1.0           1  \n",
       "2        1.0           3  \n",
       "3        0.0           0  \n",
       "4        0.0           0  "
      ]
     },
     "execution_count": 97,
     "metadata": {},
     "output_type": "execute_result"
    }
   ],
   "source": [
    "train.head()"
   ]
  },
  {
   "cell_type": "code",
   "execution_count": 98,
   "metadata": {},
   "outputs": [
    {
     "name": "stderr",
     "output_type": "stream",
     "text": [
      "<ipython-input-98-ef50745583a9>:5: SettingWithCopyWarning: \n",
      "A value is trying to be set on a copy of a slice from a DataFrame\n",
      "\n",
      "See the caveats in the documentation: https://pandas.pydata.org/pandas-docs/stable/user_guide/indexing.html#returning-a-view-versus-a-copy\n",
      "  train['production_countries'][j] = d[0]['name']\n",
      "<ipython-input-98-ef50745583a9>:7: SettingWithCopyWarning: \n",
      "A value is trying to be set on a copy of a slice from a DataFrame\n",
      "\n",
      "See the caveats in the documentation: https://pandas.pydata.org/pandas-docs/stable/user_guide/indexing.html#returning-a-view-versus-a-copy\n",
      "  train['production_countries'][j] = np.NaN\n",
      "<ipython-input-98-ef50745583a9>:14: SettingWithCopyWarning: \n",
      "A value is trying to be set on a copy of a slice from a DataFrame\n",
      "\n",
      "See the caveats in the documentation: https://pandas.pydata.org/pandas-docs/stable/user_guide/indexing.html#returning-a-view-versus-a-copy\n",
      "  test['production_countries'][j] = d[0]['name']\n",
      "<ipython-input-98-ef50745583a9>:16: SettingWithCopyWarning: \n",
      "A value is trying to be set on a copy of a slice from a DataFrame\n",
      "\n",
      "See the caveats in the documentation: https://pandas.pydata.org/pandas-docs/stable/user_guide/indexing.html#returning-a-view-versus-a-copy\n",
      "  test['production_countries'][j] = np.NaN\n"
     ]
    }
   ],
   "source": [
    "j = 0\n",
    "for i in train['production_countries']:\n",
    "    d = get_dict(i)\n",
    "    if d != {}:\n",
    "        train['production_countries'][j] = d[0]['name'] \n",
    "    else:\n",
    "         train['production_countries'][j] = np.NaN\n",
    "    j += 1\n",
    "\n",
    "j = 0\n",
    "for i in test['production_countries']:\n",
    "    d = get_dict(i)\n",
    "    if d != {}:\n",
    "        test['production_countries'][j] = d[0]['name'] \n",
    "    else:\n",
    "         test['production_countries'][j] = np.NaN\n",
    "    j += 1\n"
   ]
  },
  {
   "cell_type": "code",
   "execution_count": 99,
   "metadata": {},
   "outputs": [],
   "source": [
    "train['cast_count']=np.nan\n",
    "train[\"cast\"].fillna('{}',inplace=True)\n",
    "train['cast_count']=[len(eval(x)) for x in train[\"cast\"]]\n",
    "\n",
    "test['cast_count']=np.nan\n",
    "test[\"cast\"].fillna('{}',inplace=True)\n",
    "test['cast_count']=[len(eval(x)) for x in test[\"cast\"]]\n",
    "\n",
    "\n"
   ]
  },
  {
   "cell_type": "code",
   "execution_count": 100,
   "metadata": {},
   "outputs": [],
   "source": [
    "train.drop(['cast'],axis=1,inplace=True)\n",
    "test.drop(['cast'],axis=1,inplace=True)\n",
    "train.drop(['spoken_languages'],axis=1,inplace=True)\n",
    "test.drop(['spoken_languages'],axis=1,inplace=True)\n",
    "train.drop(['Keywords'],axis=1,inplace=True)\n",
    "test.drop(['Keywords'],axis=1,inplace=True)\n",
    "train.drop(['production_countries'],axis=1,inplace=True)\n",
    "test.drop(['production_countries'],axis=1,inplace=True)\n"
   ]
  },
  {
   "cell_type": "code",
   "execution_count": 101,
   "metadata": {},
   "outputs": [],
   "source": [
    "train['crew_count']=np.nan\n",
    "train[\"crew\"].fillna('{}',inplace=True)\n",
    "train['crew_count']=[len(eval(x)) for x in train[\"crew\"]]\n",
    "\n",
    "test['crew_count']=np.nan\n",
    "test[\"crew\"].fillna('{}',inplace=True)\n",
    "test['crew_count']=[len(eval(x)) for x in test[\"crew\"]]\n",
    "\n"
   ]
  },
  {
   "cell_type": "code",
   "execution_count": 102,
   "metadata": {},
   "outputs": [],
   "source": [
    "train.drop(['crew'],axis=1,inplace=True)\n",
    "test.drop(['crew'],axis=1,inplace=True)"
   ]
  },
  {
   "cell_type": "code",
   "execution_count": 103,
   "metadata": {},
   "outputs": [
    {
     "data": {
      "text/html": [
       "<div>\n",
       "<style scoped>\n",
       "    .dataframe tbody tr th:only-of-type {\n",
       "        vertical-align: middle;\n",
       "    }\n",
       "\n",
       "    .dataframe tbody tr th {\n",
       "        vertical-align: top;\n",
       "    }\n",
       "\n",
       "    .dataframe thead th {\n",
       "        text-align: right;\n",
       "    }\n",
       "</style>\n",
       "<table border=\"1\" class=\"dataframe\">\n",
       "  <thead>\n",
       "    <tr style=\"text-align: right;\">\n",
       "      <th></th>\n",
       "      <th>budget</th>\n",
       "      <th>homepage</th>\n",
       "      <th>popularity</th>\n",
       "      <th>release_date</th>\n",
       "      <th>runtime</th>\n",
       "      <th>revenue</th>\n",
       "      <th>genre_name</th>\n",
       "      <th>is_english</th>\n",
       "      <th>prod_count</th>\n",
       "      <th>cast_count</th>\n",
       "      <th>crew_count</th>\n",
       "    </tr>\n",
       "  </thead>\n",
       "  <tbody>\n",
       "    <tr>\n",
       "      <th>0</th>\n",
       "      <td>14000000</td>\n",
       "      <td>0</td>\n",
       "      <td>6.575393</td>\n",
       "      <td>2/20/15</td>\n",
       "      <td>93.0</td>\n",
       "      <td>12314651</td>\n",
       "      <td>Comedy</td>\n",
       "      <td>1.0</td>\n",
       "      <td>3</td>\n",
       "      <td>24</td>\n",
       "      <td>72</td>\n",
       "    </tr>\n",
       "    <tr>\n",
       "      <th>1</th>\n",
       "      <td>40000000</td>\n",
       "      <td>0</td>\n",
       "      <td>8.248895</td>\n",
       "      <td>8/6/04</td>\n",
       "      <td>113.0</td>\n",
       "      <td>95149435</td>\n",
       "      <td>Comedy</td>\n",
       "      <td>1.0</td>\n",
       "      <td>1</td>\n",
       "      <td>20</td>\n",
       "      <td>9</td>\n",
       "    </tr>\n",
       "    <tr>\n",
       "      <th>2</th>\n",
       "      <td>3300000</td>\n",
       "      <td>1</td>\n",
       "      <td>64.299990</td>\n",
       "      <td>10/10/14</td>\n",
       "      <td>105.0</td>\n",
       "      <td>13092000</td>\n",
       "      <td>Drama</td>\n",
       "      <td>1.0</td>\n",
       "      <td>3</td>\n",
       "      <td>51</td>\n",
       "      <td>64</td>\n",
       "    </tr>\n",
       "    <tr>\n",
       "      <th>3</th>\n",
       "      <td>1200000</td>\n",
       "      <td>1</td>\n",
       "      <td>3.174936</td>\n",
       "      <td>3/9/12</td>\n",
       "      <td>122.0</td>\n",
       "      <td>16000000</td>\n",
       "      <td>Thriller</td>\n",
       "      <td>0.0</td>\n",
       "      <td>0</td>\n",
       "      <td>7</td>\n",
       "      <td>3</td>\n",
       "    </tr>\n",
       "    <tr>\n",
       "      <th>4</th>\n",
       "      <td>0</td>\n",
       "      <td>0</td>\n",
       "      <td>1.148070</td>\n",
       "      <td>2/5/09</td>\n",
       "      <td>118.0</td>\n",
       "      <td>3923970</td>\n",
       "      <td>Action</td>\n",
       "      <td>0.0</td>\n",
       "      <td>0</td>\n",
       "      <td>4</td>\n",
       "      <td>2</td>\n",
       "    </tr>\n",
       "  </tbody>\n",
       "</table>\n",
       "</div>"
      ],
      "text/plain": [
       "     budget  homepage  popularity release_date  runtime   revenue genre_name  \\\n",
       "0  14000000         0    6.575393      2/20/15     93.0  12314651     Comedy   \n",
       "1  40000000         0    8.248895       8/6/04    113.0  95149435     Comedy   \n",
       "2   3300000         1   64.299990     10/10/14    105.0  13092000      Drama   \n",
       "3   1200000         1    3.174936       3/9/12    122.0  16000000   Thriller   \n",
       "4         0         0    1.148070       2/5/09    118.0   3923970     Action   \n",
       "\n",
       "  is_english  prod_count  cast_count  crew_count  \n",
       "0        1.0           3          24          72  \n",
       "1        1.0           1          20           9  \n",
       "2        1.0           3          51          64  \n",
       "3        0.0           0           7           3  \n",
       "4        0.0           0           4           2  "
      ]
     },
     "execution_count": 103,
     "metadata": {},
     "output_type": "execute_result"
    }
   ],
   "source": [
    "train.head()"
   ]
  },
  {
   "cell_type": "code",
   "execution_count": 104,
   "metadata": {},
   "outputs": [],
   "source": [
    "train['release_date']=pd.to_datetime(train['release_date'])"
   ]
  },
  {
   "cell_type": "code",
   "execution_count": 105,
   "metadata": {},
   "outputs": [],
   "source": [
    "train['release_month'] = train['release_date'].dt.month\n",
    "train['release_year'] = train['release_date'].dt.year\n"
   ]
  },
  {
   "cell_type": "code",
   "execution_count": 106,
   "metadata": {},
   "outputs": [],
   "source": [
    "test['release_date']=pd.to_datetime(test['release_date'])\n",
    "test['release_month'] = test['release_date'].dt.month\n",
    "test['release_year'] = test['release_date'].dt.year"
   ]
  },
  {
   "cell_type": "code",
   "execution_count": 107,
   "metadata": {},
   "outputs": [],
   "source": [
    "train[\"runtime\"].fillna(train[\"runtime\"].median(),inplace=True)\n",
    "test[\"runtime\"].fillna(train[\"runtime\"].median(),inplace=True)"
   ]
  },
  {
   "cell_type": "code",
   "execution_count": 108,
   "metadata": {},
   "outputs": [],
   "source": [
    "impute_x=train[train['budget']!=0][[\"runtime\",\"revenue\",\"popularity\"]]\n",
    "impute_y=train[train['budget']!=0][\"budget\"]\n",
    "impute_test_y=train[train['budget']==0][[\"runtime\",\"revenue\",\"popularity\"]]"
   ]
  },
  {
   "cell_type": "code",
   "execution_count": 109,
   "metadata": {},
   "outputs": [
    {
     "data": {
      "text/plain": [
       "812"
      ]
     },
     "execution_count": 109,
     "metadata": {},
     "output_type": "execute_result"
    }
   ],
   "source": [
    "len(train[train['budget']==0][[\"runtime\",\"revenue\",\"popularity\"]])\n"
   ]
  },
  {
   "cell_type": "code",
   "execution_count": 110,
   "metadata": {},
   "outputs": [],
   "source": [
    "from sklearn.linear_model import *\n",
    "model=LinearRegression()\n",
    "model.fit(impute_x,impute_y)\n",
    "\n",
    "res=model.predict(impute_test_y)\n",
    "j=0\n",
    "for i in impute_test_y.index:\n",
    "    train.loc[i,\"budget\"]=res[j]\n",
    "    j+=1\n"
   ]
  },
  {
   "cell_type": "code",
   "execution_count": 111,
   "metadata": {},
   "outputs": [
    {
     "data": {
      "text/html": [
       "<div>\n",
       "<style scoped>\n",
       "    .dataframe tbody tr th:only-of-type {\n",
       "        vertical-align: middle;\n",
       "    }\n",
       "\n",
       "    .dataframe tbody tr th {\n",
       "        vertical-align: top;\n",
       "    }\n",
       "\n",
       "    .dataframe thead th {\n",
       "        text-align: right;\n",
       "    }\n",
       "</style>\n",
       "<table border=\"1\" class=\"dataframe\">\n",
       "  <thead>\n",
       "    <tr style=\"text-align: right;\">\n",
       "      <th></th>\n",
       "      <th>budget</th>\n",
       "      <th>homepage</th>\n",
       "      <th>popularity</th>\n",
       "      <th>release_date</th>\n",
       "      <th>runtime</th>\n",
       "      <th>revenue</th>\n",
       "      <th>genre_name</th>\n",
       "      <th>is_english</th>\n",
       "      <th>prod_count</th>\n",
       "      <th>cast_count</th>\n",
       "      <th>crew_count</th>\n",
       "      <th>release_month</th>\n",
       "      <th>release_year</th>\n",
       "    </tr>\n",
       "  </thead>\n",
       "  <tbody>\n",
       "    <tr>\n",
       "      <th>0</th>\n",
       "      <td>1.400000e+07</td>\n",
       "      <td>0</td>\n",
       "      <td>6.575393</td>\n",
       "      <td>2015-02-20</td>\n",
       "      <td>93.0</td>\n",
       "      <td>12314651</td>\n",
       "      <td>Comedy</td>\n",
       "      <td>1.0</td>\n",
       "      <td>3</td>\n",
       "      <td>24</td>\n",
       "      <td>72</td>\n",
       "      <td>2</td>\n",
       "      <td>2015</td>\n",
       "    </tr>\n",
       "    <tr>\n",
       "      <th>1</th>\n",
       "      <td>4.000000e+07</td>\n",
       "      <td>0</td>\n",
       "      <td>8.248895</td>\n",
       "      <td>2004-08-06</td>\n",
       "      <td>113.0</td>\n",
       "      <td>95149435</td>\n",
       "      <td>Comedy</td>\n",
       "      <td>1.0</td>\n",
       "      <td>1</td>\n",
       "      <td>20</td>\n",
       "      <td>9</td>\n",
       "      <td>8</td>\n",
       "      <td>2004</td>\n",
       "    </tr>\n",
       "    <tr>\n",
       "      <th>2</th>\n",
       "      <td>3.300000e+06</td>\n",
       "      <td>1</td>\n",
       "      <td>64.299990</td>\n",
       "      <td>2014-10-10</td>\n",
       "      <td>105.0</td>\n",
       "      <td>13092000</td>\n",
       "      <td>Drama</td>\n",
       "      <td>1.0</td>\n",
       "      <td>3</td>\n",
       "      <td>51</td>\n",
       "      <td>64</td>\n",
       "      <td>10</td>\n",
       "      <td>2014</td>\n",
       "    </tr>\n",
       "    <tr>\n",
       "      <th>3</th>\n",
       "      <td>1.200000e+06</td>\n",
       "      <td>1</td>\n",
       "      <td>3.174936</td>\n",
       "      <td>2012-03-09</td>\n",
       "      <td>122.0</td>\n",
       "      <td>16000000</td>\n",
       "      <td>Thriller</td>\n",
       "      <td>0.0</td>\n",
       "      <td>0</td>\n",
       "      <td>7</td>\n",
       "      <td>3</td>\n",
       "      <td>3</td>\n",
       "      <td>2012</td>\n",
       "    </tr>\n",
       "    <tr>\n",
       "      <th>4</th>\n",
       "      <td>1.666918e+07</td>\n",
       "      <td>0</td>\n",
       "      <td>1.148070</td>\n",
       "      <td>2009-02-05</td>\n",
       "      <td>118.0</td>\n",
       "      <td>3923970</td>\n",
       "      <td>Action</td>\n",
       "      <td>0.0</td>\n",
       "      <td>0</td>\n",
       "      <td>4</td>\n",
       "      <td>2</td>\n",
       "      <td>2</td>\n",
       "      <td>2009</td>\n",
       "    </tr>\n",
       "  </tbody>\n",
       "</table>\n",
       "</div>"
      ],
      "text/plain": [
       "         budget  homepage  popularity release_date  runtime   revenue  \\\n",
       "0  1.400000e+07         0    6.575393   2015-02-20     93.0  12314651   \n",
       "1  4.000000e+07         0    8.248895   2004-08-06    113.0  95149435   \n",
       "2  3.300000e+06         1   64.299990   2014-10-10    105.0  13092000   \n",
       "3  1.200000e+06         1    3.174936   2012-03-09    122.0  16000000   \n",
       "4  1.666918e+07         0    1.148070   2009-02-05    118.0   3923970   \n",
       "\n",
       "  genre_name is_english  prod_count  cast_count  crew_count  release_month  \\\n",
       "0     Comedy        1.0           3          24          72              2   \n",
       "1     Comedy        1.0           1          20           9              8   \n",
       "2      Drama        1.0           3          51          64             10   \n",
       "3   Thriller        0.0           0           7           3              3   \n",
       "4     Action        0.0           0           4           2              2   \n",
       "\n",
       "   release_year  \n",
       "0          2015  \n",
       "1          2004  \n",
       "2          2014  \n",
       "3          2012  \n",
       "4          2009  "
      ]
     },
     "execution_count": 111,
     "metadata": {},
     "output_type": "execute_result"
    }
   ],
   "source": [
    "train.head()"
   ]
  },
  {
   "cell_type": "code",
   "execution_count": 112,
   "metadata": {},
   "outputs": [],
   "source": [
    "train['genre_name'] = train['genre_name'].fillna(train['genre_name'].value_counts().index[0])"
   ]
  },
  {
   "cell_type": "code",
   "execution_count": 113,
   "metadata": {},
   "outputs": [],
   "source": [
    "test['release_date'] = test['release_date'].fillna(test['release_date'].value_counts().index[0])\n",
    "test['genre_name'] = test['genre_name'].fillna(test['genre_name'].value_counts().index[0])\n",
    "test['release_month'] = test['release_month'].fillna(test['release_month'].value_counts().index[0])\n",
    "test['release_year'] = test['release_year'].fillna(test['release_year'].value_counts().index[0])"
   ]
  },
  {
   "cell_type": "code",
   "execution_count": 114,
   "metadata": {},
   "outputs": [
    {
     "name": "stdout",
     "output_type": "stream",
     "text": [
      "Training set columns with % missing values\n",
      "\n",
      "Series([], dtype: float64)\n",
      "-------------------------\n",
      "Test set columns with % missing values\n",
      "\n",
      "Series([], dtype: float64)\n"
     ]
    }
   ],
   "source": [
    "print('Training set columns with % missing values\\n')\n",
    "print(train[train.columns[train.isnull().any()]].isnull().sum() * 100 / train.shape[0])\n",
    "print('-'*25)\n",
    "print('Test set columns with % missing values\\n')\n",
    "print(test[test.columns[test.isnull().any()]].isnull().sum() *100/test.shape[0])"
   ]
  },
  {
   "cell_type": "code",
   "execution_count": 115,
   "metadata": {},
   "outputs": [],
   "source": [
    "train['homepage']=train['homepage'].astype('category')"
   ]
  },
  {
   "cell_type": "code",
   "execution_count": 116,
   "metadata": {},
   "outputs": [
    {
     "name": "stdout",
     "output_type": "stream",
     "text": [
      "<class 'pandas.core.frame.DataFrame'>\n",
      "RangeIndex: 3000 entries, 0 to 2999\n",
      "Data columns (total 13 columns):\n",
      " #   Column         Non-Null Count  Dtype         \n",
      "---  ------         --------------  -----         \n",
      " 0   budget         3000 non-null   float64       \n",
      " 1   homepage       3000 non-null   category      \n",
      " 2   popularity     3000 non-null   float64       \n",
      " 3   release_date   3000 non-null   datetime64[ns]\n",
      " 4   runtime        3000 non-null   float64       \n",
      " 5   revenue        3000 non-null   int64         \n",
      " 6   genre_name     3000 non-null   object        \n",
      " 7   is_english     3000 non-null   category      \n",
      " 8   prod_count     3000 non-null   int64         \n",
      " 9   cast_count     3000 non-null   int64         \n",
      " 10  crew_count     3000 non-null   int64         \n",
      " 11  release_month  3000 non-null   int64         \n",
      " 12  release_year   3000 non-null   int64         \n",
      "dtypes: category(2), datetime64[ns](1), float64(3), int64(6), object(1)\n",
      "memory usage: 264.0+ KB\n"
     ]
    }
   ],
   "source": [
    "train.info()"
   ]
  },
  {
   "cell_type": "code",
   "execution_count": 117,
   "metadata": {},
   "outputs": [],
   "source": [
    "from sklearn.preprocessing import OneHotEncoder\n",
    "object_cols=['genre_name','is_english','homepage']\n",
    "# Apply one-hot encoder to each column with categorical data\n",
    "OH_encoder = OneHotEncoder(handle_unknown='ignore', sparse=False)\n",
    "OH_cols_train = pd.DataFrame(OH_encoder.fit_transform(train[object_cols]))\n",
    "OH_cols_test = pd.DataFrame(OH_encoder.transform(test[object_cols]))\n",
    "\n",
    "# One-hot encoding removed index; put it back\n",
    "OH_cols_train.index = train.index\n",
    "OH_cols_test.index = test.index\n",
    "\n",
    "# Remove categorical columns (will replace with one-hot encoding)\n",
    "num_X_train = train.drop(object_cols, axis=1)\n",
    "num_X_valid = test.drop(object_cols, axis=1)\n",
    "\n",
    "# Add one-hot encoded columns to numerical features\n",
    "train= pd.concat([num_X_train, OH_cols_train], axis=1)\n",
    "test = pd.concat([num_X_valid, OH_cols_test], axis=1)"
   ]
  },
  {
   "cell_type": "code",
   "execution_count": 118,
   "metadata": {},
   "outputs": [
    {
     "data": {
      "text/html": [
       "<div>\n",
       "<style scoped>\n",
       "    .dataframe tbody tr th:only-of-type {\n",
       "        vertical-align: middle;\n",
       "    }\n",
       "\n",
       "    .dataframe tbody tr th {\n",
       "        vertical-align: top;\n",
       "    }\n",
       "\n",
       "    .dataframe thead th {\n",
       "        text-align: right;\n",
       "    }\n",
       "</style>\n",
       "<table border=\"1\" class=\"dataframe\">\n",
       "  <thead>\n",
       "    <tr style=\"text-align: right;\">\n",
       "      <th></th>\n",
       "      <th>budget</th>\n",
       "      <th>popularity</th>\n",
       "      <th>release_date</th>\n",
       "      <th>runtime</th>\n",
       "      <th>revenue</th>\n",
       "      <th>prod_count</th>\n",
       "      <th>cast_count</th>\n",
       "      <th>crew_count</th>\n",
       "      <th>release_month</th>\n",
       "      <th>release_year</th>\n",
       "      <th>...</th>\n",
       "      <th>14</th>\n",
       "      <th>15</th>\n",
       "      <th>16</th>\n",
       "      <th>17</th>\n",
       "      <th>18</th>\n",
       "      <th>19</th>\n",
       "      <th>20</th>\n",
       "      <th>21</th>\n",
       "      <th>22</th>\n",
       "      <th>23</th>\n",
       "    </tr>\n",
       "  </thead>\n",
       "  <tbody>\n",
       "    <tr>\n",
       "      <th>0</th>\n",
       "      <td>1.400000e+07</td>\n",
       "      <td>6.575393</td>\n",
       "      <td>2015-02-20</td>\n",
       "      <td>93.0</td>\n",
       "      <td>12314651</td>\n",
       "      <td>3</td>\n",
       "      <td>24</td>\n",
       "      <td>72</td>\n",
       "      <td>2</td>\n",
       "      <td>2015</td>\n",
       "      <td>...</td>\n",
       "      <td>0.0</td>\n",
       "      <td>0.0</td>\n",
       "      <td>0.0</td>\n",
       "      <td>0.0</td>\n",
       "      <td>0.0</td>\n",
       "      <td>0.0</td>\n",
       "      <td>0.0</td>\n",
       "      <td>1.0</td>\n",
       "      <td>1.0</td>\n",
       "      <td>0.0</td>\n",
       "    </tr>\n",
       "    <tr>\n",
       "      <th>1</th>\n",
       "      <td>4.000000e+07</td>\n",
       "      <td>8.248895</td>\n",
       "      <td>2004-08-06</td>\n",
       "      <td>113.0</td>\n",
       "      <td>95149435</td>\n",
       "      <td>1</td>\n",
       "      <td>20</td>\n",
       "      <td>9</td>\n",
       "      <td>8</td>\n",
       "      <td>2004</td>\n",
       "      <td>...</td>\n",
       "      <td>0.0</td>\n",
       "      <td>0.0</td>\n",
       "      <td>0.0</td>\n",
       "      <td>0.0</td>\n",
       "      <td>0.0</td>\n",
       "      <td>0.0</td>\n",
       "      <td>0.0</td>\n",
       "      <td>1.0</td>\n",
       "      <td>1.0</td>\n",
       "      <td>0.0</td>\n",
       "    </tr>\n",
       "    <tr>\n",
       "      <th>2</th>\n",
       "      <td>3.300000e+06</td>\n",
       "      <td>64.299990</td>\n",
       "      <td>2014-10-10</td>\n",
       "      <td>105.0</td>\n",
       "      <td>13092000</td>\n",
       "      <td>3</td>\n",
       "      <td>51</td>\n",
       "      <td>64</td>\n",
       "      <td>10</td>\n",
       "      <td>2014</td>\n",
       "      <td>...</td>\n",
       "      <td>0.0</td>\n",
       "      <td>0.0</td>\n",
       "      <td>0.0</td>\n",
       "      <td>0.0</td>\n",
       "      <td>0.0</td>\n",
       "      <td>0.0</td>\n",
       "      <td>0.0</td>\n",
       "      <td>1.0</td>\n",
       "      <td>0.0</td>\n",
       "      <td>1.0</td>\n",
       "    </tr>\n",
       "    <tr>\n",
       "      <th>3</th>\n",
       "      <td>1.200000e+06</td>\n",
       "      <td>3.174936</td>\n",
       "      <td>2012-03-09</td>\n",
       "      <td>122.0</td>\n",
       "      <td>16000000</td>\n",
       "      <td>0</td>\n",
       "      <td>7</td>\n",
       "      <td>3</td>\n",
       "      <td>3</td>\n",
       "      <td>2012</td>\n",
       "      <td>...</td>\n",
       "      <td>0.0</td>\n",
       "      <td>0.0</td>\n",
       "      <td>0.0</td>\n",
       "      <td>1.0</td>\n",
       "      <td>0.0</td>\n",
       "      <td>0.0</td>\n",
       "      <td>1.0</td>\n",
       "      <td>0.0</td>\n",
       "      <td>0.0</td>\n",
       "      <td>1.0</td>\n",
       "    </tr>\n",
       "    <tr>\n",
       "      <th>4</th>\n",
       "      <td>1.666918e+07</td>\n",
       "      <td>1.148070</td>\n",
       "      <td>2009-02-05</td>\n",
       "      <td>118.0</td>\n",
       "      <td>3923970</td>\n",
       "      <td>0</td>\n",
       "      <td>4</td>\n",
       "      <td>2</td>\n",
       "      <td>2</td>\n",
       "      <td>2009</td>\n",
       "      <td>...</td>\n",
       "      <td>0.0</td>\n",
       "      <td>0.0</td>\n",
       "      <td>0.0</td>\n",
       "      <td>0.0</td>\n",
       "      <td>0.0</td>\n",
       "      <td>0.0</td>\n",
       "      <td>1.0</td>\n",
       "      <td>0.0</td>\n",
       "      <td>1.0</td>\n",
       "      <td>0.0</td>\n",
       "    </tr>\n",
       "  </tbody>\n",
       "</table>\n",
       "<p>5 rows × 34 columns</p>\n",
       "</div>"
      ],
      "text/plain": [
       "         budget  popularity release_date  runtime   revenue  prod_count  \\\n",
       "0  1.400000e+07    6.575393   2015-02-20     93.0  12314651           3   \n",
       "1  4.000000e+07    8.248895   2004-08-06    113.0  95149435           1   \n",
       "2  3.300000e+06   64.299990   2014-10-10    105.0  13092000           3   \n",
       "3  1.200000e+06    3.174936   2012-03-09    122.0  16000000           0   \n",
       "4  1.666918e+07    1.148070   2009-02-05    118.0   3923970           0   \n",
       "\n",
       "   cast_count  crew_count  release_month  release_year  ...   14   15   16  \\\n",
       "0          24          72              2          2015  ...  0.0  0.0  0.0   \n",
       "1          20           9              8          2004  ...  0.0  0.0  0.0   \n",
       "2          51          64             10          2014  ...  0.0  0.0  0.0   \n",
       "3           7           3              3          2012  ...  0.0  0.0  0.0   \n",
       "4           4           2              2          2009  ...  0.0  0.0  0.0   \n",
       "\n",
       "    17   18   19   20   21   22   23  \n",
       "0  0.0  0.0  0.0  0.0  1.0  1.0  0.0  \n",
       "1  0.0  0.0  0.0  0.0  1.0  1.0  0.0  \n",
       "2  0.0  0.0  0.0  0.0  1.0  0.0  1.0  \n",
       "3  1.0  0.0  0.0  1.0  0.0  0.0  1.0  \n",
       "4  0.0  0.0  0.0  1.0  0.0  1.0  0.0  \n",
       "\n",
       "[5 rows x 34 columns]"
      ]
     },
     "execution_count": 118,
     "metadata": {},
     "output_type": "execute_result"
    }
   ],
   "source": [
    "train.head()"
   ]
  },
  {
   "cell_type": "code",
   "execution_count": 119,
   "metadata": {},
   "outputs": [],
   "source": [
    "train.drop('release_date',axis=1,inplace=True)\n",
    "test.drop('release_date',axis=1,inplace=True)"
   ]
  },
  {
   "cell_type": "code",
   "execution_count": 120,
   "metadata": {},
   "outputs": [
    {
     "data": {
      "image/png": "[encoded data removed]",
      "text/plain": [
       "<Figure size 720x720 with 2 Axes>"
      ]
     },
     "metadata": {
      "needs_background": "light"
     },
     "output_type": "display_data"
    }
   ],
   "source": [
    "corr = train.corr()\n",
    "highest_corr_features = corr.index[abs(corr[\"revenue\"])>0.1]\n",
    "plt.figure(figsize=(10,10))\n",
    "g = sns.heatmap(train[highest_corr_features].corr(),annot=True,cmap=\"RdYlGn\")"
   ]
  },
  {
   "cell_type": "code",
   "execution_count": 121,
   "metadata": {},
   "outputs": [],
   "source": [
    "fe1 = ['budget','popularity','runtime','revenue','prod_count','cast_count','crew_count']"
   ]
  },
  {
   "cell_type": "code",
   "execution_count": 122,
   "metadata": {},
   "outputs": [],
   "source": [
    "X=train[fe1]\n",
    "y=X.pop('revenue')"
   ]
  },
  {
   "cell_type": "code",
   "execution_count": 123,
   "metadata": {},
   "outputs": [
    {
     "name": "stdout",
     "output_type": "stream",
     "text": [
      "(3000, 6)\n",
      "(4398, 32)\n"
     ]
    }
   ],
   "source": [
    "print(X.shape)\n",
    "print(test.shape)"
   ]
  },
  {
   "cell_type": "code",
   "execution_count": null,
   "metadata": {},
   "outputs": [],
   "source": []
  },
  {
   "cell_type": "code",
   "execution_count": 41,
   "metadata": {},
   "outputs": [
    {
     "data": {
      "image/png": "[encoded data removed]",
      "text/plain": [
       "<Figure size 432x288 with 1 Axes>"
      ]
     },
     "metadata": {
      "needs_background": "light"
     },
     "output_type": "display_data"
    }
   ],
   "source": [
    "# shapiro-wilks test\n",
    "#The null-hypothesis of this test is that the population is normally distributed. Thus, if the p value is less than the chosen alpha level, then the null hypothesis is rejected and there is evidence that the data tested are not normally distributed. On the other hand, if the p value is greater than the chosen alpha level, then the null hypothesis (that the data came from a normally distributed population) can not be rejected (e.g., for an alpha level of .05, a data set with a p value of less than .05 rejects the null hypothesis that the data are from a normally distributed population).[\n",
    "from scipy.stats import *\n",
    "\n",
    "shapiro(y)[1]\n",
    "import statsmodels.api as sm\n",
    "from matplotlib import pyplot as plt\n",
    "#data_points = np.random.normal(0, 1, 100)  \n",
    "# Create QQ plot\n",
    "\n",
    "#sm.qqplot(y, line='45')\n",
    "plt.show()\n",
    "#y_train.describe()\n",
    "sns.distplot(y,fit=norm,rug=False,hist=True)\n",
    "y1 = np.log1p(y)\n",
    "#sns.distplot(y1,fit=norm,rug=False,hist=True)"
   ]
  },
  {
   "cell_type": "code",
   "execution_count": 42,
   "metadata": {},
   "outputs": [
    {
     "data": {
      "text/plain": [
       "<matplotlib.axes._subplots.AxesSubplot at 0x7fb62186c790>"
      ]
     },
     "execution_count": 42,
     "metadata": {},
     "output_type": "execute_result"
    },
    {
     "data": {
      "image/png": "[encoded data removed]",
      "text/plain": [
       "<Figure size 432x288 with 1 Axes>"
      ]
     },
     "metadata": {
      "needs_background": "light"
     },
     "output_type": "display_data"
    }
   ],
   "source": [
    "sns.distplot(y1,fit=norm,rug=False,hist=True)"
   ]
  },
  {
   "cell_type": "code",
   "execution_count": 43,
   "metadata": {},
   "outputs": [],
   "source": [
    "from sklearn.compose import ColumnTransformer\n",
    "from sklearn.pipeline import Pipeline\n",
    "from sklearn.impute import SimpleImputer\n",
    "from sklearn.preprocessing import OneHotEncoder\n",
    "from sklearn.metrics import *\n",
    "from sklearn.linear_model import LinearRegression\n",
    "from sklearn.ensemble import RandomForestRegressor\n",
    "from sklearn.datasets import make_regression\n",
    "from xgboost import XGBRegressor\n",
    "from sklearn.model_selection import *"
   ]
  },
  {
   "cell_type": "code",
   "execution_count": 124,
   "metadata": {},
   "outputs": [],
   "source": [
    "x_train, x_test, y_train, y_test = train_test_split(X, y,test_size=0.8, random_state=0)"
   ]
  },
  {
   "cell_type": "code",
   "execution_count": 125,
   "metadata": {},
   "outputs": [
    {
     "name": "stdout",
     "output_type": "stream",
     "text": [
      "linear reg\n",
      "0.6376256177084867\n",
      "0.6152332346412828\n",
      "Root Mean Absolute Error: 6830.303064115672\n",
      "\n",
      " gradientboosting reg\n",
      "0.9198500826435246\n",
      "0.5915138195099944\n",
      "Root Mean Absolute Error: 6545.915011028278\n",
      "\n",
      "randomforest reg\n",
      "0.9421847745412242\n",
      "0.5994543154664138\n",
      "Root Mean Absolute Error: 6648.127220219303\n",
      "\n",
      "xgboost reg\n",
      "0.9998676434477137\n",
      "0.5586050455412273\n",
      "Root Mean Absolute Error: 6795.207231058804\n"
     ]
    }
   ],
   "source": [
    "print(\"linear reg\")\n",
    "\n",
    "from sklearn.linear_model import LinearRegression\n",
    "model = LinearRegression()\n",
    "model.fit(x_train, y_train)\n",
    "\n",
    "print(model.score(x_train, y_train))\n",
    "\n",
    "print(model.score(x_test, y_test))\n",
    "y_pred=model.predict(x_test)\n",
    "rmse_pred = mean_absolute_error(y_test,y_pred) \n",
    "\n",
    "print(\"Root Mean Absolute Error:\" , np.sqrt(rmse_pred))\n",
    "\n",
    "print(\"\\n gradientboosting reg\")\n",
    "from sklearn.ensemble import GradientBoostingRegressor\n",
    "model = GradientBoostingRegressor(random_state=0).fit(x_train, y_train)\n",
    "print(model.score(x_train, y_train))\n",
    "\n",
    "print(model.score(x_test, y_test))\n",
    "y_pred=model.predict(x_test)\n",
    "rmse_pred = mean_absolute_error(y_test,y_pred) \n",
    "\n",
    "\n",
    "print(\"Root Mean Absolute Error:\" , np.sqrt(rmse_pred))\n",
    "\n",
    "print(\"\\nrandomforest reg\")\n",
    "from sklearn.ensemble import RandomForestRegressor\n",
    "model = RandomForestRegressor(random_state=0).fit(x_train, y_train)\n",
    "print(model.score(x_train, y_train))\n",
    "print(model.score(x_test, y_test))\n",
    "y_pred=model.predict(x_test)\n",
    "rmse_pred = mean_absolute_error(y_test,y_pred) \n",
    " \n",
    "\n",
    "print(\"Root Mean Absolute Error:\" , np.sqrt(rmse_pred))\n",
    "\n",
    "print(\"\\nxgboost reg\")\n",
    "from xgboost import XGBRegressor\n",
    "model = XGBRegressor(random_state=0).fit(x_train, y_train)\n",
    "print(model.score(x_train, y_train))\n",
    "print(model.score(x_test, y_test))\n",
    "y_pred=model.predict(x_test)\n",
    "rmse_pred = mean_absolute_error(y_test,y_pred) \n",
    "print(\"Root Mean Absolute Error:\" , np.sqrt(rmse_pred))"
   ]
  },
  {
   "cell_type": "code",
   "execution_count": 127,
   "metadata": {},
   "outputs": [
    {
     "data": {
      "text/plain": [
       "0.6017594672718827"
      ]
     },
     "execution_count": 127,
     "metadata": {},
     "output_type": "execute_result"
    }
   ],
   "source": [
    "rfc = RandomForestRegressor(random_state=0)\n",
    "param_grid = { \n",
    "    'n_estimators': [50,100,150,200],\n",
    "    'max_features': ['auto', 'sqrt', 'log2'],\n",
    "    'max_depth' : [2,3,4,5,6,7,8]\n",
    "}\n",
    "CV_rfc = GridSearchCV(estimator=rfc, param_grid=param_grid, cv= 5)\n",
    "CV_rfc.fit(x_train, y_train)\n",
    "CV_rfc.score(x_test, y_test)\n"
   ]
  },
  {
   "cell_type": "code",
   "execution_count": 128,
   "metadata": {},
   "outputs": [
    {
     "data": {
      "text/plain": [
       "{'max_depth': 3, 'max_features': 'auto', 'n_estimators': 150}"
      ]
     },
     "execution_count": 128,
     "metadata": {},
     "output_type": "execute_result"
    }
   ],
   "source": [
    "CV_rfc.best_params_"
   ]
  },
  {
   "cell_type": "code",
   "execution_count": 137,
   "metadata": {},
   "outputs": [
    {
     "data": {
      "text/plain": [
       "['budget', 'popularity', 'runtime', 'prod_count', 'cast_count', 'crew_count']"
      ]
     },
     "execution_count": 137,
     "metadata": {},
     "output_type": "execute_result"
    }
   ],
   "source": [
    "fe1\n"
   ]
  },
  {
   "cell_type": "code",
   "execution_count": 138,
   "metadata": {},
   "outputs": [],
   "source": [
    "\n",
    "pred=CV_rfc.predict(test[['budget', 'popularity', 'runtime', 'prod_count', 'cast_count', 'crew_count']])"
   ]
  },
  {
   "cell_type": "code",
   "execution_count": 139,
   "metadata": {},
   "outputs": [],
   "source": [
    "pd.DataFrame({'Id': test_id,'revenue':pred }).to_csv('submission.csv',index=False)"
   ]
  },
  {
   "cell_type": "code",
   "execution_count": 61,
   "metadata": {},
   "outputs": [
    {
     "data": {
      "text/html": [
       "<div>\n",
       "<style scoped>\n",
       "    .dataframe tbody tr th:only-of-type {\n",
       "        vertical-align: middle;\n",
       "    }\n",
       "\n",
       "    .dataframe tbody tr th {\n",
       "        vertical-align: top;\n",
       "    }\n",
       "\n",
       "    .dataframe thead th {\n",
       "        text-align: right;\n",
       "    }\n",
       "</style>\n",
       "<table border=\"1\" class=\"dataframe\">\n",
       "  <thead>\n",
       "    <tr style=\"text-align: right;\">\n",
       "      <th></th>\n",
       "      <th>budget</th>\n",
       "      <th>popularity</th>\n",
       "      <th>runtime</th>\n",
       "      <th>prod_count</th>\n",
       "      <th>cast_count</th>\n",
       "      <th>crew_count</th>\n",
       "      <th>release_month</th>\n",
       "      <th>release_year</th>\n",
       "      <th>0</th>\n",
       "      <th>1</th>\n",
       "      <th>...</th>\n",
       "      <th>14</th>\n",
       "      <th>15</th>\n",
       "      <th>16</th>\n",
       "      <th>17</th>\n",
       "      <th>18</th>\n",
       "      <th>19</th>\n",
       "      <th>20</th>\n",
       "      <th>21</th>\n",
       "      <th>22</th>\n",
       "      <th>23</th>\n",
       "    </tr>\n",
       "  </thead>\n",
       "  <tbody>\n",
       "    <tr>\n",
       "      <th>count</th>\n",
       "      <td>3.000000e+03</td>\n",
       "      <td>3000.000000</td>\n",
       "      <td>3000.000000</td>\n",
       "      <td>3000.000000</td>\n",
       "      <td>3000.000000</td>\n",
       "      <td>3000.000000</td>\n",
       "      <td>3000.000000</td>\n",
       "      <td>3000.000000</td>\n",
       "      <td>3000.000000</td>\n",
       "      <td>3000.000000</td>\n",
       "      <td>...</td>\n",
       "      <td>3000.000000</td>\n",
       "      <td>3000.000000</td>\n",
       "      <td>3000.000000</td>\n",
       "      <td>3000.000000</td>\n",
       "      <td>3000.000000</td>\n",
       "      <td>3000.000000</td>\n",
       "      <td>3000.000000</td>\n",
       "      <td>3000.000000</td>\n",
       "      <td>3000.000000</td>\n",
       "      <td>3000.000000</td>\n",
       "    </tr>\n",
       "    <tr>\n",
       "      <th>mean</th>\n",
       "      <td>2.684218e+07</td>\n",
       "      <td>8.463274</td>\n",
       "      <td>107.854000</td>\n",
       "      <td>2.698333</td>\n",
       "      <td>20.603667</td>\n",
       "      <td>24.365667</td>\n",
       "      <td>6.775333</td>\n",
       "      <td>2005.046333</td>\n",
       "      <td>0.173333</td>\n",
       "      <td>0.062333</td>\n",
       "      <td>...</td>\n",
       "      <td>0.022333</td>\n",
       "      <td>0.013667</td>\n",
       "      <td>0.000333</td>\n",
       "      <td>0.038667</td>\n",
       "      <td>0.006667</td>\n",
       "      <td>0.004333</td>\n",
       "      <td>0.141667</td>\n",
       "      <td>0.858333</td>\n",
       "      <td>0.684667</td>\n",
       "      <td>0.315333</td>\n",
       "    </tr>\n",
       "    <tr>\n",
       "      <th>std</th>\n",
       "      <td>3.514464e+07</td>\n",
       "      <td>12.104000</td>\n",
       "      <td>22.079293</td>\n",
       "      <td>2.014121</td>\n",
       "      <td>16.629635</td>\n",
       "      <td>28.066419</td>\n",
       "      <td>3.409115</td>\n",
       "      <td>15.919610</td>\n",
       "      <td>0.378598</td>\n",
       "      <td>0.241800</td>\n",
       "      <td>...</td>\n",
       "      <td>0.147790</td>\n",
       "      <td>0.116122</td>\n",
       "      <td>0.018257</td>\n",
       "      <td>0.192831</td>\n",
       "      <td>0.081391</td>\n",
       "      <td>0.065696</td>\n",
       "      <td>0.348766</td>\n",
       "      <td>0.348766</td>\n",
       "      <td>0.464726</td>\n",
       "      <td>0.464726</td>\n",
       "    </tr>\n",
       "    <tr>\n",
       "      <th>min</th>\n",
       "      <td>1.000000e+00</td>\n",
       "      <td>0.000001</td>\n",
       "      <td>0.000000</td>\n",
       "      <td>0.000000</td>\n",
       "      <td>0.000000</td>\n",
       "      <td>0.000000</td>\n",
       "      <td>1.000000</td>\n",
       "      <td>1971.000000</td>\n",
       "      <td>0.000000</td>\n",
       "      <td>0.000000</td>\n",
       "      <td>...</td>\n",
       "      <td>0.000000</td>\n",
       "      <td>0.000000</td>\n",
       "      <td>0.000000</td>\n",
       "      <td>0.000000</td>\n",
       "      <td>0.000000</td>\n",
       "      <td>0.000000</td>\n",
       "      <td>0.000000</td>\n",
       "      <td>0.000000</td>\n",
       "      <td>0.000000</td>\n",
       "      <td>0.000000</td>\n",
       "    </tr>\n",
       "    <tr>\n",
       "      <th>25%</th>\n",
       "      <td>9.000000e+06</td>\n",
       "      <td>4.018053</td>\n",
       "      <td>94.000000</td>\n",
       "      <td>1.000000</td>\n",
       "      <td>11.000000</td>\n",
       "      <td>8.000000</td>\n",
       "      <td>4.000000</td>\n",
       "      <td>1995.000000</td>\n",
       "      <td>0.000000</td>\n",
       "      <td>0.000000</td>\n",
       "      <td>...</td>\n",
       "      <td>0.000000</td>\n",
       "      <td>0.000000</td>\n",
       "      <td>0.000000</td>\n",
       "      <td>0.000000</td>\n",
       "      <td>0.000000</td>\n",
       "      <td>0.000000</td>\n",
       "      <td>0.000000</td>\n",
       "      <td>1.000000</td>\n",
       "      <td>0.000000</td>\n",
       "      <td>0.000000</td>\n",
       "    </tr>\n",
       "    <tr>\n",
       "      <th>50%</th>\n",
       "      <td>1.500000e+07</td>\n",
       "      <td>7.374861</td>\n",
       "      <td>104.000000</td>\n",
       "      <td>2.000000</td>\n",
       "      <td>16.000000</td>\n",
       "      <td>14.000000</td>\n",
       "      <td>7.000000</td>\n",
       "      <td>2006.000000</td>\n",
       "      <td>0.000000</td>\n",
       "      <td>0.000000</td>\n",
       "      <td>...</td>\n",
       "      <td>0.000000</td>\n",
       "      <td>0.000000</td>\n",
       "      <td>0.000000</td>\n",
       "      <td>0.000000</td>\n",
       "      <td>0.000000</td>\n",
       "      <td>0.000000</td>\n",
       "      <td>0.000000</td>\n",
       "      <td>1.000000</td>\n",
       "      <td>1.000000</td>\n",
       "      <td>0.000000</td>\n",
       "    </tr>\n",
       "    <tr>\n",
       "      <th>75%</th>\n",
       "      <td>3.000000e+07</td>\n",
       "      <td>10.890983</td>\n",
       "      <td>118.000000</td>\n",
       "      <td>4.000000</td>\n",
       "      <td>24.000000</td>\n",
       "      <td>28.000000</td>\n",
       "      <td>10.000000</td>\n",
       "      <td>2012.000000</td>\n",
       "      <td>0.000000</td>\n",
       "      <td>0.000000</td>\n",
       "      <td>...</td>\n",
       "      <td>0.000000</td>\n",
       "      <td>0.000000</td>\n",
       "      <td>0.000000</td>\n",
       "      <td>0.000000</td>\n",
       "      <td>0.000000</td>\n",
       "      <td>0.000000</td>\n",
       "      <td>0.000000</td>\n",
       "      <td>1.000000</td>\n",
       "      <td>1.000000</td>\n",
       "      <td>1.000000</td>\n",
       "    </tr>\n",
       "    <tr>\n",
       "      <th>max</th>\n",
       "      <td>3.800000e+08</td>\n",
       "      <td>294.337037</td>\n",
       "      <td>338.000000</td>\n",
       "      <td>17.000000</td>\n",
       "      <td>156.000000</td>\n",
       "      <td>194.000000</td>\n",
       "      <td>12.000000</td>\n",
       "      <td>2070.000000</td>\n",
       "      <td>1.000000</td>\n",
       "      <td>1.000000</td>\n",
       "      <td>...</td>\n",
       "      <td>1.000000</td>\n",
       "      <td>1.000000</td>\n",
       "      <td>1.000000</td>\n",
       "      <td>1.000000</td>\n",
       "      <td>1.000000</td>\n",
       "      <td>1.000000</td>\n",
       "      <td>1.000000</td>\n",
       "      <td>1.000000</td>\n",
       "      <td>1.000000</td>\n",
       "      <td>1.000000</td>\n",
       "    </tr>\n",
       "  </tbody>\n",
       "</table>\n",
       "<p>8 rows × 32 columns</p>\n",
       "</div>"
      ],
      "text/plain": [
       "             budget   popularity      runtime   prod_count   cast_count  \\\n",
       "count  3.000000e+03  3000.000000  3000.000000  3000.000000  3000.000000   \n",
       "mean   2.684218e+07     8.463274   107.854000     2.698333    20.603667   \n",
       "std    3.514464e+07    12.104000    22.079293     2.014121    16.629635   \n",
       "min    1.000000e+00     0.000001     0.000000     0.000000     0.000000   \n",
       "25%    9.000000e+06     4.018053    94.000000     1.000000    11.000000   \n",
       "50%    1.500000e+07     7.374861   104.000000     2.000000    16.000000   \n",
       "75%    3.000000e+07    10.890983   118.000000     4.000000    24.000000   \n",
       "max    3.800000e+08   294.337037   338.000000    17.000000   156.000000   \n",
       "\n",
       "        crew_count  release_month  release_year            0            1  \\\n",
       "count  3000.000000    3000.000000   3000.000000  3000.000000  3000.000000   \n",
       "mean     24.365667       6.775333   2005.046333     0.173333     0.062333   \n",
       "std      28.066419       3.409115     15.919610     0.378598     0.241800   \n",
       "min       0.000000       1.000000   1971.000000     0.000000     0.000000   \n",
       "25%       8.000000       4.000000   1995.000000     0.000000     0.000000   \n",
       "50%      14.000000       7.000000   2006.000000     0.000000     0.000000   \n",
       "75%      28.000000      10.000000   2012.000000     0.000000     0.000000   \n",
       "max     194.000000      12.000000   2070.000000     1.000000     1.000000   \n",
       "\n",
       "       ...           14           15           16           17           18  \\\n",
       "count  ...  3000.000000  3000.000000  3000.000000  3000.000000  3000.000000   \n",
       "mean   ...     0.022333     0.013667     0.000333     0.038667     0.006667   \n",
       "std    ...     0.147790     0.116122     0.018257     0.192831     0.081391   \n",
       "min    ...     0.000000     0.000000     0.000000     0.000000     0.000000   \n",
       "25%    ...     0.000000     0.000000     0.000000     0.000000     0.000000   \n",
       "50%    ...     0.000000     0.000000     0.000000     0.000000     0.000000   \n",
       "75%    ...     0.000000     0.000000     0.000000     0.000000     0.000000   \n",
       "max    ...     1.000000     1.000000     1.000000     1.000000     1.000000   \n",
       "\n",
       "                19           20           21           22           23  \n",
       "count  3000.000000  3000.000000  3000.000000  3000.000000  3000.000000  \n",
       "mean      0.004333     0.141667     0.858333     0.684667     0.315333  \n",
       "std       0.065696     0.348766     0.348766     0.464726     0.464726  \n",
       "min       0.000000     0.000000     0.000000     0.000000     0.000000  \n",
       "25%       0.000000     0.000000     1.000000     0.000000     0.000000  \n",
       "50%       0.000000     0.000000     1.000000     1.000000     0.000000  \n",
       "75%       0.000000     0.000000     1.000000     1.000000     1.000000  \n",
       "max       1.000000     1.000000     1.000000     1.000000     1.000000  \n",
       "\n",
       "[8 rows x 32 columns]"
      ]
     },
     "execution_count": 61,
     "metadata": {},
     "output_type": "execute_result"
    }
   ],
   "source": [
    "X.describe()"
   ]
  },
  {
   "cell_type": "code",
   "execution_count": null,
   "metadata": {},
   "outputs": [],
   "source": []
  },
  {
   "cell_type": "code",
   "execution_count": 47,
   "metadata": {},
   "outputs": [
    {
     "data": {
      "text/plain": [
       "GridSearchCV(cv=5,\n",
       "             estimator=XGBRegressor(base_score=None, booster=None,\n",
       "                                    colsample_bylevel=None,\n",
       "                                    colsample_bynode=None,\n",
       "                                    colsample_bytree=None, gamma=None,\n",
       "                                    gpu_id=None, importance_type='gain',\n",
       "                                    interaction_constraints=None,\n",
       "                                    learning_rate=None, max_delta_step=None,\n",
       "                                    max_depth=None, min_child_weight=None,\n",
       "                                    missing=nan, monotone_constraints=None,\n",
       "                                    n_estimators=100, n_jobs=...\n",
       "                                    reg_alpha=None, reg_lambda=None,\n",
       "                                    scale_pos_weight=None, subsample=None,\n",
       "                                    tree_method=None, validate_parameters=None,\n",
       "                                    verbosity=None),\n",
       "             param_grid={'colsample_bylevel': [0.5], 'colsample_bytree': [1.0],\n",
       "                         'learning_rate': [0.01, 0.5, 0.1],\n",
       "                         'max_depth': [4, 5, 6],\n",
       "                         'n_estimators': [500, 1000, 3000, 5000],\n",
       "                         'subsample': [1.0]},\n",
       "             return_train_score=True, scoring='neg_mean_squared_error')"
      ]
     },
     "execution_count": 47,
     "metadata": {},
     "output_type": "execute_result"
    }
   ],
   "source": [
    "from xgboost import XGBRegressor\n",
    "from sklearn.model_selection import GridSearchCV\n",
    "from sklearn.model_selection import RandomizedSearchCV\n",
    "model = XGBRegressor()\n",
    "\n",
    "param_grid =  {\n",
    "        'max_depth': [4,5,6],\n",
    "#        'gamma': [0.5, 1, 1.5, 2, 5],\n",
    "        'subsample': [1.0],\n",
    "        'colsample_bytree': [1.0],\n",
    "        'colsample_bylevel': [0.5],\n",
    "        'learning_rate': [0.01, 0.5, 0.1],\n",
    "        'n_estimators': [500, 1000, 3000, 5000] \n",
    "#        'min_child_weight': [1, 5, 10],       \n",
    "        }\n",
    "\n",
    "grid_search = GridSearchCV(model, param_grid, cv=5,\n",
    "                           scoring='neg_mean_squared_error',\n",
    "                           return_train_score=True)\n",
    "grid_search.fit(x_train, y_train)"
   ]
  },
  {
   "cell_type": "code",
   "execution_count": 51,
   "metadata": {},
   "outputs": [
    {
     "name": "stdout",
     "output_type": "stream",
     "text": [
      "Root Mean Absolute Error: 6631.680102682179\n"
     ]
    }
   ],
   "source": [
    "best_regressor = grid_search.best_estimator_\n",
    "best_regressor\n",
    "from sklearn.metrics import mean_absolute_error\n",
    "\n",
    "# Get predictions\n",
    "y_pred = grid_search.predict(x_test)\n",
    "# Calculate MAE\n",
    "rmse_pred = mean_absolute_error(y_test, y_pred) \n",
    "\n",
    "print(\"Root Mean Absolute Error:\" , np.sqrt(rmse_pred))"
   ]
  },
  {
   "cell_type": "code",
   "execution_count": 53,
   "metadata": {},
   "outputs": [],
   "source": [
    "#revenue =  np.floor(np.expm1(grid_search.predict(test1)))\n",
    "revenue =   grid_search.predict(test)"
   ]
  },
  {
   "cell_type": "code",
   "execution_count": 58,
   "metadata": {},
   "outputs": [
    {
     "name": "stdout",
     "output_type": "stream",
     "text": [
      "[  3777522.   -2847611.8  18142748.  ...  16482622.   -1726850.4\n",
      " -11616604. ]\n"
     ]
    },
    {
     "data": {
      "text/plain": [
       "count    3.000000e+03\n",
       "mean     6.672585e+07\n",
       "std      1.375323e+08\n",
       "min      1.000000e+00\n",
       "25%      2.379808e+06\n",
       "50%      1.680707e+07\n",
       "75%      6.891920e+07\n",
       "max      1.519558e+09\n",
       "Name: revenue, dtype: float64"
      ]
     },
     "execution_count": 58,
     "metadata": {},
     "output_type": "execute_result"
    }
   ],
   "source": [
    "print(revenue)\n",
    "y.describe()"
   ]
  },
  {
   "cell_type": "code",
   "execution_count": 56,
   "metadata": {},
   "outputs": [],
   "source": [
    "pd.DataFrame({'Id': test_id,'revenue':revenue }).to_csv('submission.csv',index=False)"
   ]
  },
  {
   "cell_type": "code",
   "execution_count": null,
   "metadata": {},
   "outputs": [],
   "source": []
  }
 ],
 "metadata": {
  "kernelspec": {
   "display_name": "Python 3",
   "language": "python",
   "name": "python3"
  },
  "language_info": {
   "codemirror_mode": {
    "name": "ipython",
    "version": 3
   },
   "file_extension": ".py",
   "mimetype": "text/x-python",
   "name": "python",
   "nbconvert_exporter": "python",
   "pygments_lexer": "ipython3",
   "version": "3.8.3"
  }
 },
 "nbformat": 4,
 "nbformat_minor": 4
}
