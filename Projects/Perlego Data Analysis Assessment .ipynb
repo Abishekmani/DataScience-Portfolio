{
 "cells": [
  {
   "cell_type": "markdown",
   "metadata": {},
   "source": [
    "\n",
    "# Perlego Data Analysis Assessment \n",
    "This Jupyter Notebook contains all the code and visualisations for my data analysis task.\n",
    "\n",
    "---\n",
    "This notebook is split into 5 sections:\n",
    "1. Section 1 : Contains general visualisations  about the dataset\n",
    "2. Section 2 : Contains analysis based on Student and Professional user types in the dataset \n",
    "3. Section 3 : Contains analysis based on the subscriptions and seeing of there is any seasonality or trend\n",
    "4. Section 4 : Key Performance Indicators\n",
    "5. TODO: Any extra analysis or improvements I could have made on this dataset\n",
    "\n",
    "There is a summary of my findings the end of each section\n",
    "\n",
    "---"
   ]
  },
  {
   "cell_type": "code",
   "execution_count": 1,
   "metadata": {},
   "outputs": [],
   "source": [
    "import numpy as np\n",
    "import pandas as pd\n",
    "import matplotlib.pyplot as plt\n",
    "import seaborn as sns\n",
    "%matplotlib inline\n",
    "from collections import Counter\n",
    "import warnings\n",
    "warnings.filterwarnings('ignore')"
   ]
  },
  {
   "cell_type": "code",
   "execution_count": 2,
   "metadata": {},
   "outputs": [],
   "source": [
    "#Reading the data into a dataframe and creating a copy to work with\n",
    "data = pd.read_excel(\"Data Analysis Task Data Set.xlsx\")\n",
    "datacp = data.copy()"
   ]
  },
  {
   "cell_type": "code",
   "execution_count": 4,
   "metadata": {},
   "outputs": [],
   "source": [
    "#Changing the format of the subscription columns to datetime format\n",
    "datacp['subscription start date'] =  pd.to_datetime(datacp['subscription start date'], format='%Y-%m-%d',utc=True)\n",
    "#removing none values to change to a datetime object\n",
    "datacp['subscription_end_date'].replace('none', np.nan, inplace=True)\n",
    "datacp['subscription_end_date'] =  pd.to_datetime(datacp['subscription_end_date'],format='%Y-%m-%d %H:%M:%S')"
   ]
  },
  {
   "cell_type": "code",
   "execution_count": 3,
   "metadata": {},
   "outputs": [
    {
     "data": {
      "text/html": [
       "<div>\n",
       "<style scoped>\n",
       "    .dataframe tbody tr th:only-of-type {\n",
       "        vertical-align: middle;\n",
       "    }\n",
       "\n",
       "    .dataframe tbody tr th {\n",
       "        vertical-align: top;\n",
       "    }\n",
       "\n",
       "    .dataframe thead th {\n",
       "        text-align: right;\n",
       "    }\n",
       "</style>\n",
       "<table border=\"1\" class=\"dataframe\">\n",
       "  <thead>\n",
       "    <tr style=\"text-align: right;\">\n",
       "      <th></th>\n",
       "      <th>user_id</th>\n",
       "      <th>country</th>\n",
       "      <th>trial start (adjusted timezone)</th>\n",
       "      <th>trial end (adjusted time zone)</th>\n",
       "      <th>subscription start date</th>\n",
       "      <th>subscription_end_date</th>\n",
       "      <th>account status</th>\n",
       "      <th>UTM_Source</th>\n",
       "      <th>UTM_Medium</th>\n",
       "      <th>user_group</th>\n",
       "      <th>user_type</th>\n",
       "      <th>subjects_of_interest</th>\n",
       "      <th>university</th>\n",
       "      <th>books read</th>\n",
       "    </tr>\n",
       "  </thead>\n",
       "  <tbody>\n",
       "    <tr>\n",
       "      <th>0</th>\n",
       "      <td>e4bdd9c4-a999-42bc-b962-0af7af6a01ff</td>\n",
       "      <td>United States</td>\n",
       "      <td>2020-08-19 14:38:27</td>\n",
       "      <td>2020-09-02 14:38:27</td>\n",
       "      <td>NaN</td>\n",
       "      <td>NaN</td>\n",
       "      <td>Lead</td>\n",
       "      <td>google</td>\n",
       "      <td>organic</td>\n",
       "      <td>Trial</td>\n",
       "      <td>Professional</td>\n",
       "      <td>Personal Development</td>\n",
       "      <td>NaN</td>\n",
       "      <td>1</td>\n",
       "    </tr>\n",
       "    <tr>\n",
       "      <th>1</th>\n",
       "      <td>bb0d7668-8ce1-4829-abb7-c5a1a7ab9479</td>\n",
       "      <td>United Kingdom</td>\n",
       "      <td>2020-08-04 13:53:33</td>\n",
       "      <td>2020-08-18 13:53:33</td>\n",
       "      <td>NaN</td>\n",
       "      <td>NaN</td>\n",
       "      <td>Lead</td>\n",
       "      <td>google</td>\n",
       "      <td>organic</td>\n",
       "      <td>Trial</td>\n",
       "      <td>Student</td>\n",
       "      <td>History, Literature, Media &amp; Performing Arts, ...</td>\n",
       "      <td>Not specified</td>\n",
       "      <td>2</td>\n",
       "    </tr>\n",
       "    <tr>\n",
       "      <th>2</th>\n",
       "      <td>85bfb360-787b-4ec4-b487-b7f93e63a9c6</td>\n",
       "      <td>United Kingdom</td>\n",
       "      <td>2020-08-19 14:57:57</td>\n",
       "      <td>2020-09-02 14:57:57</td>\n",
       "      <td>NaN</td>\n",
       "      <td>NaN</td>\n",
       "      <td>Lead</td>\n",
       "      <td>direct</td>\n",
       "      <td>direct</td>\n",
       "      <td>Trial</td>\n",
       "      <td>Professional</td>\n",
       "      <td>Architecture, Art, Business, Computer Science,...</td>\n",
       "      <td>NaN</td>\n",
       "      <td>1</td>\n",
       "    </tr>\n",
       "    <tr>\n",
       "      <th>3</th>\n",
       "      <td>1231aef6-0534-490e-a7f4-68c08ee99434</td>\n",
       "      <td>United Kingdom</td>\n",
       "      <td>2020-07-01 14:05:47</td>\n",
       "      <td>2020-07-15 14:05:47</td>\n",
       "      <td>2020-07-15 14:05:47 +0100</td>\n",
       "      <td>2020-07-15 13:05:47</td>\n",
       "      <td>Cancelled</td>\n",
       "      <td>ucas</td>\n",
       "      <td>partner</td>\n",
       "      <td>Subscriber</td>\n",
       "      <td>Student</td>\n",
       "      <td>Biological Sciences</td>\n",
       "      <td>Not specified</td>\n",
       "      <td>2</td>\n",
       "    </tr>\n",
       "    <tr>\n",
       "      <th>4</th>\n",
       "      <td>551d977a-6ad4-4885-89d0-1fbeb5fdbe80</td>\n",
       "      <td>Ireland</td>\n",
       "      <td>2020-08-19 15:07:31</td>\n",
       "      <td>2020-09-02 15:07:31</td>\n",
       "      <td>2020-09-02 15:07:31 +0100</td>\n",
       "      <td>none</td>\n",
       "      <td>Active</td>\n",
       "      <td>facebook</td>\n",
       "      <td>psocial</td>\n",
       "      <td>Subscriber</td>\n",
       "      <td>Student</td>\n",
       "      <td>Art, Biological Sciences, Business, Computer S...</td>\n",
       "      <td>Bristol University</td>\n",
       "      <td>0</td>\n",
       "    </tr>\n",
       "  </tbody>\n",
       "</table>\n",
       "</div>"
      ],
      "text/plain": [
       "                                user_id         country  \\\n",
       "0  e4bdd9c4-a999-42bc-b962-0af7af6a01ff   United States   \n",
       "1  bb0d7668-8ce1-4829-abb7-c5a1a7ab9479  United Kingdom   \n",
       "2  85bfb360-787b-4ec4-b487-b7f93e63a9c6  United Kingdom   \n",
       "3  1231aef6-0534-490e-a7f4-68c08ee99434  United Kingdom   \n",
       "4  551d977a-6ad4-4885-89d0-1fbeb5fdbe80         Ireland   \n",
       "\n",
       "  trial start (adjusted timezone) trial end (adjusted time zone)  \\\n",
       "0             2020-08-19 14:38:27            2020-09-02 14:38:27   \n",
       "1             2020-08-04 13:53:33            2020-08-18 13:53:33   \n",
       "2             2020-08-19 14:57:57            2020-09-02 14:57:57   \n",
       "3             2020-07-01 14:05:47            2020-07-15 14:05:47   \n",
       "4             2020-08-19 15:07:31            2020-09-02 15:07:31   \n",
       "\n",
       "     subscription start date subscription_end_date account status UTM_Source  \\\n",
       "0                        NaN                   NaN           Lead     google   \n",
       "1                        NaN                   NaN           Lead     google   \n",
       "2                        NaN                   NaN           Lead     direct   \n",
       "3  2020-07-15 14:05:47 +0100   2020-07-15 13:05:47      Cancelled       ucas   \n",
       "4  2020-09-02 15:07:31 +0100                  none         Active   facebook   \n",
       "\n",
       "  UTM_Medium  user_group     user_type  \\\n",
       "0    organic       Trial  Professional   \n",
       "1    organic       Trial       Student   \n",
       "2     direct       Trial  Professional   \n",
       "3    partner  Subscriber       Student   \n",
       "4    psocial  Subscriber       Student   \n",
       "\n",
       "                                subjects_of_interest          university  \\\n",
       "0                               Personal Development                 NaN   \n",
       "1  History, Literature, Media & Performing Arts, ...       Not specified   \n",
       "2  Architecture, Art, Business, Computer Science,...                 NaN   \n",
       "3                                Biological Sciences       Not specified   \n",
       "4  Art, Biological Sciences, Business, Computer S...  Bristol University   \n",
       "\n",
       "   books read  \n",
       "0           1  \n",
       "1           2  \n",
       "2           1  \n",
       "3           2  \n",
       "4           0  "
      ]
     },
     "execution_count": 3,
     "metadata": {},
     "output_type": "execute_result"
    }
   ],
   "source": [
    "datacp.head()"
   ]
  },
  {
   "cell_type": "markdown",
   "metadata": {},
   "source": [
    "## Section 1 - \n",
    "## General Data Insights\n",
    "\n",
    "This section contains some general visualisations about the dataset \n",
    "\n",
    "---"
   ]
  },
  {
   "cell_type": "code",
   "execution_count": 96,
   "metadata": {},
   "outputs": [
    {
     "name": "stdout",
     "output_type": "stream",
     "text": [
      "organic     4113\n",
      "partner      895\n",
      "direct       779\n",
      "cpc          582\n",
      "psocial      101\n",
      "mmedia        26\n",
      "offline       24\n",
      "referral       1\n",
      "Name: UTM_Medium, dtype: int64\n"
     ]
    },
    {
     "data": {
      "image/png": "[encoded data removed]",
      "text/plain": [
       "<Figure size 720x360 with 1 Axes>"
      ]
     },
     "metadata": {},
     "output_type": "display_data"
    }
   ],
   "source": [
    "#No of subscriptions in each medium#\n",
    "print(datacp['UTM_Medium'].value_counts())\n",
    "plt.figure(figsize=(10,5))\n",
    "sns.countplot(datacp['UTM_Medium'],order = datacp['UTM_Medium'].value_counts().index,palette=\"Set1\")\n",
    "plt.xlabel('UTM_Medium', fontsize=13)\n",
    "plt.ylabel('No of subscriptions in each medium', fontsize=13,labelpad=20)\n",
    "plt.title('UTM_Medium - Decending Order',pad=20)\n",
    "plt.tight_layout()\n"
   ]
  },
  {
   "cell_type": "markdown",
   "metadata": {},
   "source": [
    "---"
   ]
  },
  {
   "cell_type": "code",
   "execution_count": 89,
   "metadata": {},
   "outputs": [
    {
     "name": "stdout",
     "output_type": "stream",
     "text": [
      "Lead         4250\n",
      "Cancelled    1192\n",
      "Active       1140\n",
      "Past due       19\n",
      "Name: account status, dtype: int64\n"
     ]
    },
    {
     "data": {
      "image/png": "[encoded data removed]",
      "text/plain": [
       "<Figure size 720x360 with 1 Axes>"
      ]
     },
     "metadata": {},
     "output_type": "display_data"
    }
   ],
   "source": [
    "print(datacp['account status'].value_counts())\n",
    "plt.figure(figsize=(10,5))\n",
    "sns.countplot(datacp['account status'],palette=\"Set2\",)\n",
    "plt.xlabel('Account Status', fontsize=13)\n",
    "plt.ylabel('No of subscriptions per account', fontsize=13,labelpad=20)\n",
    "plt.title('Account Status - Decending Order',pad=20)\n",
    "plt.tight_layout()"
   ]
  },
  {
   "cell_type": "markdown",
   "metadata": {},
   "source": [
    "---"
   ]
  },
  {
   "cell_type": "code",
   "execution_count": 92,
   "metadata": {},
   "outputs": [
    {
     "name": "stdout",
     "output_type": "stream",
     "text": [
      "United Kingdom    3681\n",
      "United States     2089\n",
      "Italy              229\n",
      "Canada             229\n",
      "Australia          193\n",
      "Ireland            180\n",
      "Name: country, dtype: int64\n"
     ]
    },
    {
     "data": {
      "image/png": "[encoded data removed]",
      "text/plain": [
       "<Figure size 720x360 with 1 Axes>"
      ]
     },
     "metadata": {},
     "output_type": "display_data"
    }
   ],
   "source": [
    "print(datacp['country'].value_counts())\n",
    "plt.figure(figsize=(10,5))\n",
    "sns.countplot(datacp['country'],palette=\"Set1\")\n",
    "plt.xlabel('Country', fontsize=13)\n",
    "plt.ylabel('Number of subscriptions per country', fontsize=13,labelpad=20)\n",
    "plt.title('Subscriptions per country',pad=20)\n",
    "plt.tight_layout()"
   ]
  },
  {
   "cell_type": "markdown",
   "metadata": {},
   "source": [
    "---"
   ]
  },
  {
   "cell_type": "raw",
   "metadata": {},
   "source": []
  },
  {
   "cell_type": "markdown",
   "metadata": {},
   "source": [
    "---\n",
    "# Section 2 - \n",
    "\n",
    "# Students VS Professionals Analysis\n",
    "\n",
    "In this section we try to understand how different or similar students and professionals who use the site are.\n",
    "I have also provided visualisation to help understand this better \n",
    "*Please check the end of this section to see a summarisation of the analysis done.*\n",
    "\n",
    "\n",
    "---\n",
    "\n",
    "There are 6 main questions I try to answer in this section \n",
    "1. Which group reads more books? \n",
    "2. Which group has more active users?\n",
    "3. Which group has more cancellations?\n",
    "4. What are the top 5 most popular subjects of interest for each group?\n",
    "5. Trial and Subscriber metrics for each group\n",
    "\n"
   ]
  },
  {
   "cell_type": "code",
   "execution_count": 21,
   "metadata": {},
   "outputs": [
    {
     "name": "stdout",
     "output_type": "stream",
     "text": [
      "Total no of Students: 5110\n",
      "Total no of Professionals: 1491\n",
      "-------------------------\n",
      "\n",
      "\n",
      "Total no of books read by Students: 25127\n",
      "Total no of books read by Professional: 7110\n",
      "-------------------------\n",
      "\n",
      "\n",
      "Ratio of Students and books read by students: 4.917221135029354\n",
      "Ratio of Professional and books read by professionals: 4.768611670020121\n"
     ]
    }
   ],
   "source": [
    "#who reads more books, students vs professionals ratios.\n",
    "student_count=len(datacp[datacp['user_type']=='Student'])\n",
    "professionals_count=len(datacp[datacp['user_type']=='Professional'])\n",
    "\n",
    "print('Total no of Students:',student_count)\n",
    "print('Total no of Professionals:',professionals_count)\n",
    "print('-'*25)\n",
    "print('\\n')\n",
    "\n",
    "sr=datacp['books read'][datacp['user_type']=='Student']\n",
    "student_books_count=sr.sum()\n",
    "\n",
    "pr=datacp['books read'][datacp['user_type']=='Professional']\n",
    "professionals_books_count=pr.sum()\n",
    "\n",
    "print('Total no of books read by Students:',student_books_count)\n",
    "print('Total no of books read by Professional:',professionals_books_count)\n",
    "print('-'*25)\n",
    "print('\\n')\n",
    "\n",
    "\n",
    "std_ratio=student_books_count/student_count\n",
    "pro_ratio=professionals_books_count/professionals_count\n",
    "print('Ratio of Students and books read by students:',std_ratio)\n",
    "print('Ratio of Professional and books read by professionals:',pro_ratio)"
   ]
  },
  {
   "cell_type": "code",
   "execution_count": 7,
   "metadata": {},
   "outputs": [
    {
     "name": "stdout",
     "output_type": "stream",
     "text": [
      "Total no of Students: 5110\n",
      "Total no of Professionals: 1491\n",
      "-------------------------\n",
      "\n",
      "\n",
      "Total no of active accounts by Students: 913\n",
      "Total no of active accounts by Professional: 227\n",
      "-------------------------\n",
      "\n",
      "\n",
      "Ratio of active accounts by Students 0.1786692759295499\n",
      "Ratio of active accounts by Professional: 0.1522468142186452\n"
     ]
    }
   ],
   "source": [
    "#who has more active users, students vs professionals ratios.\n",
    "student_count=len(datacp[datacp['user_type']=='Student'])\n",
    "professionals_count=len(datacp[datacp['user_type']=='Professional'])\n",
    "\n",
    "print('Total no of Students:',student_count)\n",
    "print('Total no of Professionals:',professionals_count)\n",
    "print('-'*25)\n",
    "print('\\n')\n",
    "\n",
    "sa=datacp[datacp['account status']=='Active'][datacp['user_type']=='Student']\n",
    "student_active_account=len(sa)\n",
    "\n",
    "pa=datacp[datacp['account status']=='Active'][datacp['user_type']=='Professional']\n",
    "professionals_active_account=len(pa)\n",
    "\n",
    "print('Total no of active accounts by Students:',student_active_account)\n",
    "print('Total no of active accounts by Professional:',professionals_active_account)\n",
    "print('-'*25)\n",
    "print('\\n')\n",
    "\n",
    "std_ratio=student_active_account/student_count\n",
    "pro_ratio=professionals_active_account/professionals_count\n",
    "print('Ratio of active accounts by Students',std_ratio)\n",
    "print('Ratio of active accounts by Professional:',pro_ratio)\n"
   ]
  },
  {
   "cell_type": "code",
   "execution_count": 8,
   "metadata": {},
   "outputs": [
    {
     "name": "stdout",
     "output_type": "stream",
     "text": [
      "Total no of Students: 5110\n",
      "Total no of Professionals: 1491\n",
      "-------------------------\n",
      "\n",
      "\n",
      "Total no of active accounts by Students: 927\n",
      "Total no of active accounts by Professional: 265\n",
      "-------------------------\n",
      "\n",
      "\n",
      "Ratio of cancelled accounts by Students 0.18140900195694717\n",
      "Ratio of cancelled accounts by Professional: 0.17773306505700873\n"
     ]
    }
   ],
   "source": [
    "#who cancelled more students vs pros\n",
    "student_count=len(datacp[datacp['user_type']=='Student'])\n",
    "professionals_count=len(datacp[datacp['user_type']=='Professional'])\n",
    "\n",
    "print('Total no of Students:',student_count)\n",
    "print('Total no of Professionals:',professionals_count)\n",
    "print('-'*25)\n",
    "print('\\n')\n",
    "\n",
    "sc=datacp[datacp['account status']=='Cancelled'][datacp['user_type']=='Student']\n",
    "student_cancelled_account=len(sc)\n",
    "\n",
    "pc=datacp[datacp['account status']=='Cancelled'][datacp['user_type']=='Professional']\n",
    "professionals_cancelled_account=len(pc)\n",
    "\n",
    "print('Total no of active accounts by Students:',student_cancelled_account)\n",
    "print('Total no of active accounts by Professional:',professionals_cancelled_account)\n",
    "print('-'*25)\n",
    "print('\\n')\n",
    "\n",
    "std_ratio=student_cancelled_account/student_count\n",
    "pro_ratio=professionals_cancelled_account/professionals_count\n",
    "print('Ratio of cancelled accounts by Students',std_ratio)\n",
    "print('Ratio of cancelled accounts by Professional:',pro_ratio)"
   ]
  },
  {
   "cell_type": "raw",
   "metadata": {},
   "source": []
  },
  {
   "cell_type": "code",
   "execution_count": 10,
   "metadata": {},
   "outputs": [],
   "source": [
    "#Most popular subjects of interest -  students vs professionals can plot this \n",
    "datacp['interested_subjects']=datacp[\"subjects_of_interest\"].str.split(',')\n",
    "student_interests = datacp['interested_subjects'][datacp['user_type']=='Student']\n",
    "professional_interests = datacp['interested_subjects'][datacp['user_type']=='Professional']\n",
    "student_interests.dropna(inplace=True)\n",
    "professional_interests.dropna(inplace=True)"
   ]
  },
  {
   "cell_type": "code",
   "execution_count": 29,
   "metadata": {},
   "outputs": [
    {
     "data": {
      "text/plain": [
       "[(' Social Sciences', 944),\n",
       " (' Psychology', 886),\n",
       " ('Business', 766),\n",
       " ('Art', 608),\n",
       " (' Personal Development', 602)]"
      ]
     },
     "execution_count": 29,
     "metadata": {},
     "output_type": "execute_result"
    }
   ],
   "source": [
    "ww=[]\n",
    "for i in student_interests:\n",
    "        ww.extend(i)\n",
    "s=Counter(ww)\n",
    "s.most_common(5)"
   ]
  },
  {
   "cell_type": "code",
   "execution_count": 30,
   "metadata": {},
   "outputs": [
    {
     "data": {
      "text/plain": [
       "[(' Psychology', 220),\n",
       " (' Social Sciences', 199),\n",
       " (' Personal Development', 193),\n",
       " (' Philosophy', 175),\n",
       " (' Literature', 166)]"
      ]
     },
     "execution_count": 30,
     "metadata": {},
     "output_type": "execute_result"
    }
   ],
   "source": [
    "gg=[]\n",
    "for i in professional_interests:\n",
    "        gg.extend(i)\n",
    "p=Counter(gg)\n",
    "p.most_common(5)"
   ]
  },
  {
   "cell_type": "raw",
   "metadata": {},
   "source": []
  },
  {
   "cell_type": "code",
   "execution_count": 83,
   "metadata": {},
   "outputs": [
    {
     "data": {
      "image/png": "[encoded data removed]",
      "text/plain": [
       "<Figure size 648x432 with 1 Axes>"
      ]
     },
     "metadata": {},
     "output_type": "display_data"
    }
   ],
   "source": [
    "## Trial and Subscriber counts in the dataset \n",
    "#In the visualisation below we can see the split between trial users and subscribers .\n",
    "#We can also see how this is divided in terms of Students and Professionals.\n",
    "\n",
    "sns.set_style(\"whitegrid\")\n",
    "plt.figure(figsize=(9,6))\n",
    "sns.countplot(datacp['user_group'],hue=datacp['user_type'],palette='Set2')\n",
    "plt.xlabel('', fontsize=18)\n",
    "plt.ylabel('No of Students and Professionals', fontsize=13,labelpad=20)\n",
    "plt.legend(title='User Type')\n",
    "plt.title('Trial and Subscriber Count',pad=20)\n",
    "plt.tight_layout()\n"
   ]
  },
  {
   "cell_type": "code",
   "execution_count": 20,
   "metadata": {},
   "outputs": [],
   "source": [
    "## TODO \n",
    "## MOST COMMON UTM MEDUIM AND SOURCE FOR THAT MEDIUM FOR EACH STUDENT AND SUBSCRIBER"
   ]
  },
  {
   "cell_type": "markdown",
   "metadata": {},
   "source": [
    "# Section 2 Summary -\n",
    "\n",
    "Below are the answers to the questions proposed at the start of the section:\n",
    "### Which group reads more books? \n",
    "> We have more number of students than professionals in this dataset . Therefore , we cannot just have a standard answer for this question. To get a comparable answer , I have compared the ratios to the number of students and the professionals and we can see the following data \n",
    "\n",
    "* *Ratio of Students and books read by students:     4.91*\n",
    "* *Ratio of Professional and books read by professionals:   4.76*\n",
    "\n",
    "---\n",
    "\n",
    "### Which group has more active users?\n",
    "> Similarly, we can only answer this question with percentages.\n",
    "\n",
    "* Percentage of active accounts by students : 17.86%\n",
    "* Percentage of active accounts by professionals : 15.22%\n",
    "\n",
    "---\n",
    "\n",
    "###  Which group has more cancellations?\n",
    "\n",
    "* Percentage of cancelled accounts by students : 18.14%\n",
    "* Percentage of cancelled  accounts by professionals : 17.77%\n",
    "---\n",
    "\n",
    "### What are the top 5 most popular subjects of interest for each group?\n",
    "\n",
    "####  Students \n",
    "The top 5 most popular subjects of interests for students in order are:\n",
    "\n",
    "1. Social Sciences\n",
    "2. Psychology\n",
    "3. Business\n",
    "4. Art\n",
    "5. Personal Development\n",
    "---\n",
    "#### Professionals\n",
    "The top 5 most popular subjects of interests for professionals in order are:\n",
    "\n",
    "1. Psychology\n",
    "2. Social Sciences\n",
    "3. Personal Development\n",
    "4. Philosophy\n",
    "5. Literature\n",
    "---\n",
    "\n",
    "\n",
    "### Trial and Subscriber metrics for each group\n",
    "> From the barchart show above, we can see that there are more people who have a trial account than a subscriber account.\n",
    "> The no of accounts for students for both cases are more than professional accounts. There are no anomalies in this visualisation \n"
   ]
  },
  {
   "cell_type": "markdown",
   "metadata": {},
   "source": [
    "---\n",
    "# Section 3 -\n",
    "# Subscriptions Analysis"
   ]
  },
  {
   "cell_type": "markdown",
   "metadata": {},
   "source": [
    "In this section I try to answer the following question with regards to the subscriptions made by the users in this data set \n",
    "\n",
    "1. Average subscription time ( Number of Days ) for active users \n",
    "2. Average no of days users have used the site before cancellations \n",
    "3. Month at which the users have subscribed ( Checking to see of there is a tree or seasonality to this )\n",
    "4. Which country has the most  subscriptions?  \n",
    " \n"
   ]
  },
  {
   "cell_type": "code",
   "execution_count": 32,
   "metadata": {},
   "outputs": [],
   "source": [
    "#converting series to the correct datetime format\n",
    "datacp['subscription start date'] =  pd.to_datetime(datacp['subscription start date'], format='%Y-%m-%d',utc=True)\n",
    "#removing none values to change to a datetime object\n",
    "datacp['subscription_end_date'].replace('none', np.nan, inplace=True)\n",
    "datacp['subscription_end_date'] =  pd.to_datetime(datacp['subscription_end_date'],format='%Y-%m-%d %H:%M:%S',utc=True)\n",
    "#days to cancellation\n",
    "datacp['days_to_cancellation']=datacp['subscription_end_date']-datacp['subscription start date']"
   ]
  },
  {
   "cell_type": "code",
   "execution_count": 37,
   "metadata": {},
   "outputs": [],
   "source": [
    "# adding the 'days_active' column to the dataframe \n",
    "# this is calculated using the today variable\n",
    "today = pd.to_datetime('now').normalize()\n",
    "today = pd.to_datetime(today,format='%Y-%m-%d %H:%M:%S',utc=True)\n",
    "activedf = datacp[datacp['account status']=='Active']\n",
    "activedf['subscription_end_date'] = today\n",
    "datacp['days_active'] = activedf['subscription_end_date']-activedf['subscription start date']"
   ]
  },
  {
   "cell_type": "code",
   "execution_count": 40,
   "metadata": {},
   "outputs": [
    {
     "name": "stdout",
     "output_type": "stream",
     "text": [
      "Average subscription time for active users: 184.89122807017543\n"
     ]
    }
   ],
   "source": [
    "# 1. Average subscription time ( Number of Days ) for active users\n",
    "days = datacp['days_active'].astype(('timedelta64[D]'))\n",
    "total_active_days=days.sum()\n",
    "Average_active_days = total_active_days/len(datacp[datacp['account status']=='Active'])\n",
    "print('Average subscription time for active users:',Average_active_days)"
   ]
  },
  {
   "cell_type": "code",
   "execution_count": 41,
   "metadata": {},
   "outputs": [
    {
     "name": "stdout",
     "output_type": "stream",
     "text": [
      "Average subscription time for cancelled users: 68.59312080536913\n"
     ]
    }
   ],
   "source": [
    "# 2. Average no of days users have used the site before cancellations\n",
    "can_days = datacp['days_to_cancellation'].astype(('timedelta64[D]'))\n",
    "total_can_days=can_days.sum()\n",
    "Average_can_days = total_can_days/len(datacp[datacp['account status']=='Cancelled'])\n",
    "print('Average subscription time for cancelled users:',Average_can_days)"
   ]
  },
  {
   "cell_type": "code",
   "execution_count": 57,
   "metadata": {},
   "outputs": [
    {
     "data": {
      "image/png": "[encoded data removed]",
      "text/plain": [
       "<Figure size 720x432 with 1 Axes>"
      ]
     },
     "metadata": {},
     "output_type": "display_data"
    }
   ],
   "source": [
    "# 3. Month at which the users have subscribed ( Checking to see of there is a tree or seasonality to this )\n",
    "datacp['start_Month'] = datacp['subscription start date'].dt.month_name()\n",
    "order1=['January','February','March','April','May','June','July','August','September','October','November','December']\n",
    "plt.figure(figsize=(10,6))\n",
    "sns.set_style(\"whitegrid\")\n",
    "sns.countplot(datacp['start_Month'],palette=(\"ch:start=.2,rot=-.3\"),order=order1)\n",
    "plt.xlabel('Months', fontsize=13,labelpad=20)\n",
    "plt.ylabel('No of subscriptions', fontsize=13,labelpad=20)\n",
    "plt.title('No of subscriptions - Monthly Trend',pad=20)\n",
    "plt.tight_layout()"
   ]
  },
  {
   "cell_type": "code",
   "execution_count": 66,
   "metadata": {},
   "outputs": [
    {
     "data": {
      "image/png": "[encoded data removed]",
      "text/plain": [
       "<Figure size 1440x720 with 1 Axes>"
      ]
     },
     "metadata": {},
     "output_type": "display_data"
    }
   ],
   "source": [
    "# 4.Which country has the most subscriptions?\n",
    "plt.figure(figsize=(20,10))\n",
    "sns.countplot(datacp['start_Month'],palette='Set2',order=order1,hue=datacp['country'])\n",
    "plt.xlabel('Months', fontsize=13,labelpad=20)\n",
    "plt.ylabel('No of subscriptions', fontsize=13,labelpad=20)\n",
    "plt.title('No of subscriptions - Monthly Trend |  Split by Country',pad=20)\n",
    "plt.legend(title='Countries')\n",
    "plt.tight_layout()"
   ]
  },
  {
   "cell_type": "code",
   "execution_count": 69,
   "metadata": {},
   "outputs": [
    {
     "data": {
      "image/png": "[encoded data removed]",
      "text/plain": [
       "<Figure size 1440x720 with 1 Axes>"
      ]
     },
     "metadata": {},
     "output_type": "display_data"
    }
   ],
   "source": [
    "# 5.No of subscriptions - Monthly Trend |  Students vs Professionals\n",
    "plt.figure(figsize=(20,10))\n",
    "sns.countplot(datacp['start_Month'],palette='Set2',order=order1,hue=datacp['user_type'])\n",
    "plt.xlabel('Months', fontsize=13,labelpad=20)\n",
    "plt.ylabel('No of subscriptions', fontsize=13,labelpad=20)\n",
    "plt.title('No of subscriptions - Monthly Trend |  Students vs Professionals',pad=20)\n",
    "plt.legend(title='User Type')\n",
    "plt.tight_layout()"
   ]
  },
  {
   "cell_type": "raw",
   "metadata": {},
   "source": []
  },
  {
   "cell_type": "markdown",
   "metadata": {},
   "source": [
    "## Section 3 Summary - \n",
    "\n",
    "Below are some of the answers to the questions proposed at the beginning of this section\n",
    "\n",
    "---\n",
    "\n",
    "\n",
    "### Average subscription time ( Number of Days ) for active users?\n",
    "> The average subscription time for all users is *185 Days*\n",
    "\n",
    "\n",
    "### Average no of days users have used the site before cancellations?\n",
    "> The average no of days the subscription lasts before cancellation is \n",
    "> *69 days*\n",
    "\n",
    "### Month at which the users have subscribed ( Checking to see of there is a tree or seasonality to this )?\n",
    "> The months at which the users are subscribing are from *September - December*.\n",
    "> There is an upward trend till Christmas and then a downward trend.\n",
    "> There are almost no new subscriptions in the months from *April-june*\n",
    "\n",
    "### Which country has the most subscriptions??\n",
    "> The United Kingdom and USA have the most no of subscriptions every month .\n",
    "> The other country fall behind with varying levels of performance in different months \n",
    "\n",
    "---"
   ]
  },
  {
   "cell_type": "raw",
   "metadata": {},
   "source": []
  },
  {
   "cell_type": "markdown",
   "metadata": {},
   "source": [
    "# Section 4 -\n",
    "# Key Performance Indicators \n",
    "In this section of my analysis, I have focussed on a few KPI’s that could help the business make better decisions.\n",
    "\n",
    "1. Conversion rate - How many people have actually become a subscriber?\n",
    "2. Customer lifetime value -  Average no of days the user/subscriber has been active \n",
    "3. Customer retention rate -  How many no of users are active users?\n",
    "\n",
    "---"
   ]
  },
  {
   "cell_type": "code",
   "execution_count": 71,
   "metadata": {},
   "outputs": [
    {
     "name": "stdout",
     "output_type": "stream",
     "text": [
      "Total conversion rate: 35.61581578548705\n"
     ]
    }
   ],
   "source": [
    "##conversion rate total users\n",
    "n_total = datacp.shape[0]\n",
    "subscribers = len(datacp[datacp['user_group']=='Subscriber'])\n",
    "conversion_rate=(subscribers/n_total)*100\n",
    "print('Total conversion rate:',conversion_rate)"
   ]
  },
  {
   "cell_type": "code",
   "execution_count": 72,
   "metadata": {},
   "outputs": [
    {
     "name": "stdout",
     "output_type": "stream",
     "text": [
      "Student conversion rate: 36.34050880626223\n",
      "-------------------------\n",
      "Professional conversion rate: 33.13212608987257\n"
     ]
    }
   ],
   "source": [
    "#conversion rate student vs Professional\n",
    "n_total = datacp.shape[0]\n",
    "n_student_total = len(datacp[datacp['user_type']=='Student'])\n",
    "students_subscribers = len(datacp[datacp['user_type']=='Student'][datacp['user_group']=='Subscriber'])\n",
    "std_conversion_rate=(students_subscribers/n_student_total)*100\n",
    "print('Student conversion rate:',std_conversion_rate)\n",
    "print('-'*25)\n",
    "\n",
    "\n",
    "n_total = datacp.shape[0]\n",
    "n_pro_total = len(datacp[datacp['user_type']=='Professional'])\n",
    "pro_subscribers = len(datacp[datacp['user_type']=='Professional'][datacp['user_group']=='Subscriber'])\n",
    "pro_conversion_rate=(pro_subscribers/n_pro_total)*100\n",
    "print('Professional conversion rate:',pro_conversion_rate)"
   ]
  },
  {
   "cell_type": "code",
   "execution_count": 76,
   "metadata": {},
   "outputs": [],
   "source": [
    "# Function to calculate conversion rate\n",
    "def conversionRate(lt,types):\n",
    "    for i in lt:\n",
    "        a = len(datacp[datacp[types]==i])\n",
    "        b = len(datacp[datacp[types]==i][datacp['user_group']=='Subscriber'])\n",
    "        std_conversion_rate=(b/a)*100\n",
    "        print(i+' conversion rate:',std_conversion_rate)\n",
    "\n"
   ]
  },
  {
   "cell_type": "code",
   "execution_count": 77,
   "metadata": {},
   "outputs": [
    {
     "name": "stdout",
     "output_type": "stream",
     "text": [
      "organic conversion rate: 32.94432287867736\n",
      "partner conversion rate: 43.24022346368715\n",
      "direct conversion rate: 42.747111681643126\n",
      "cpc conversion rate: 35.39518900343643\n",
      "psocial conversion rate: 36.633663366336634\n",
      "mmedia conversion rate: 50.0\n",
      "offline conversion rate: 37.5\n",
      "referral conversion rate: 100.0\n"
     ]
    }
   ],
   "source": [
    "#conversion rate  UTM_Medium\n",
    "conversionRate(['organic','partner','direct','cpc','psocial','mmedia','offline','referral'],\"UTM_Medium\")"
   ]
  },
  {
   "cell_type": "code",
   "execution_count": 78,
   "metadata": {},
   "outputs": [
    {
     "name": "stdout",
     "output_type": "stream",
     "text": [
      "google conversion rate: 32.713347921225385\n",
      "ucas conversion rate: 43.06666666666666\n",
      "direct conversion rate: 42.60752688172043\n",
      "talis conversion rate: 49.629629629629626\n",
      "facebook conversion rate: 38.54166666666667\n",
      "bing conversion rate: 53.40909090909091\n",
      "crm conversion rate: 45.714285714285715\n",
      "campusbooks conversion rate: 40.0\n",
      "paperclip conversion rate: 37.5\n",
      "ecosia conversion rate: 31.25\n"
     ]
    }
   ],
   "source": [
    "#conversion rate by source - not valuable\n",
    "conversionRate(list(datacp['UTM_Source'].value_counts()[datacp['UTM_Source'].value_counts()>15].index),\"UTM_Source\")"
   ]
  },
  {
   "cell_type": "code",
   "execution_count": 79,
   "metadata": {},
   "outputs": [
    {
     "name": "stdout",
     "output_type": "stream",
     "text": [
      "United Kingdom conversion rate: 41.70062483020918\n",
      "United States conversion rate: 27.14217328865486\n",
      "Italy conversion rate: 20.52401746724891\n",
      "Canada conversion rate: 30.567685589519648\n",
      "Australia conversion rate: 32.64248704663213\n",
      "Ireland conversion rate: 38.333333333333336\n"
     ]
    }
   ],
   "source": [
    "#conversion rate country\n",
    "conversionRate(list(datacp['country'].value_counts().index),\"country\")"
   ]
  },
  {
   "cell_type": "code",
   "execution_count": 80,
   "metadata": {},
   "outputs": [
    {
     "name": "stdout",
     "output_type": "stream",
     "text": [
      "Total retension rate: 48.49000425350914\n"
     ]
    }
   ],
   "source": [
    "# customer retension rate (total active subscribers / total subscribers)\n",
    "n_total = datacp.shape[0]\n",
    "n_total_subscribers = len(datacp[datacp['user_group']=='Subscriber'])\n",
    "active = len(datacp[datacp['account status']=='Active'])\n",
    "retension_rate=(active/n_total_subscribers)*100\n",
    "print('Total retension rate:',retension_rate)"
   ]
  },
  {
   "cell_type": "markdown",
   "metadata": {},
   "source": [
    "## # Section 4 Summary - \n",
    "### Conversion rate - How many people have actually become a subscriber?\n",
    "> 35\n",
    "\n",
    "> There are other notable conversion rate metrics mention in the code above.\n",
    "\n",
    "### Customer lifetime value -  Average no of days the user/subscriber has been active \n",
    "> The average subscription time for all users is /185 Days/\n",
    "\n",
    "### Customer retention rate -  How many no of users are active users?\n",
    "> The average retention rate is 48% \n",
    "\n",
    "---\n"
   ]
  },
  {
   "cell_type": "markdown",
   "metadata": {},
   "source": [
    "\n",
    "## TODO\n",
    "\n",
    "* Implement a machine learning model to classify if the user will cancel his/her subscription in the next month \n",
    "* Provide more visualisations to show percentages in pie charts.\n",
    "* Provide more infographics to make all the information available at a glance\n"
   ]
  },
  {
   "cell_type": "raw",
   "metadata": {},
   "source": []
  }
 ],
 "metadata": {
  "kernelspec": {
   "display_name": "Python 3",
   "language": "python",
   "name": "python3"
  },
  "language_info": {
   "codemirror_mode": {
    "name": "ipython",
    "version": 3
   },
   "file_extension": ".py",
   "mimetype": "text/x-python",
   "name": "python",
   "nbconvert_exporter": "python",
   "pygments_lexer": "ipython3",
   "version": "3.8.3"
  }
 },
 "nbformat": 4,
 "nbformat_minor": 4
}
